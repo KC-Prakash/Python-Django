{
 "cells": [
  {
   "cell_type": "markdown",
   "metadata": {},
   "source": [
    "# Note : 2+4, 2 and 4 are operands and + is the operator"
   ]
  },
  {
   "cell_type": "markdown",
   "metadata": {},
   "source": [
    "# Relational Operators"
   ]
  },
  {
   "cell_type": "code",
   "execution_count": 1,
   "metadata": {},
   "outputs": [
    {
     "data": {
      "text/plain": [
       "False"
      ]
     },
     "execution_count": 1,
     "metadata": {},
     "output_type": "execute_result"
    }
   ],
   "source": [
    "#greater than\n",
    "2>3  #output of any relational or logical operation is a Boolean value i.e. either True or False"
   ]
  },
  {
   "cell_type": "code",
   "execution_count": 5,
   "metadata": {},
   "outputs": [
    {
     "data": {
      "text/plain": [
       "True"
      ]
     },
     "execution_count": 5,
     "metadata": {},
     "output_type": "execute_result"
    }
   ],
   "source": [
    "2<=3   # 2 is less than OR equals to 3\n"
   ]
  },
  {
   "cell_type": "code",
   "execution_count": 8,
   "metadata": {},
   "outputs": [
    {
     "data": {
      "text/plain": [
       "True"
      ]
     },
     "execution_count": 8,
     "metadata": {},
     "output_type": "execute_result"
    }
   ],
   "source": [
    "3 == 3"
   ]
  },
  {
   "cell_type": "code",
   "execution_count": 9,
   "metadata": {},
   "outputs": [
    {
     "data": {
      "text/plain": [
       "False"
      ]
     },
     "execution_count": 9,
     "metadata": {},
     "output_type": "execute_result"
    }
   ],
   "source": [
    "3 != 3"
   ]
  },
  {
   "cell_type": "markdown",
   "metadata": {},
   "source": [
    "# Logical Operators\n"
   ]
  },
  {
   "cell_type": "code",
   "execution_count": 13,
   "metadata": {},
   "outputs": [
    {
     "data": {
      "text/plain": [
       "False"
      ]
     },
     "execution_count": 13,
     "metadata": {},
     "output_type": "execute_result"
    }
   ],
   "source": [
    "# and \n",
    "age = 17\n",
    "\n",
    "# 18 >= 18 and 18 <= 35\n",
    "age >= 18 and age<=35\n",
    "#conclusion: and operator results to True only if all the relations are True"
   ]
  },
  {
   "cell_type": "code",
   "execution_count": 16,
   "metadata": {},
   "outputs": [
    {
     "data": {
      "text/plain": [
       "True"
      ]
     },
     "execution_count": 16,
     "metadata": {},
     "output_type": "execute_result"
    }
   ],
   "source": [
    "# or\n",
    "# pass = True \n",
    "# math = True  #True means pass\n",
    "# science = False #False means fail\n",
    "\n",
    "# to be pass\n",
    "# math and science  #failed in Science so, overall result is fail\n",
    "\n",
    "\n",
    "# measuring as fail\n",
    "math = True #True is fail\n",
    "science = False # False is pass\n",
    "computer = False\n",
    "#to check fail\n",
    "math or science or computer"
   ]
  },
  {
   "cell_type": "code",
   "execution_count": 18,
   "metadata": {},
   "outputs": [
    {
     "data": {
      "text/plain": [
       "True"
      ]
     },
     "execution_count": 18,
     "metadata": {},
     "output_type": "execute_result"
    }
   ],
   "source": [
    "# not\n",
    "\n",
    "not True\n",
    "\n",
    "not False\n",
    "\n"
   ]
  },
  {
   "cell_type": "code",
   "execution_count": 31,
   "metadata": {},
   "outputs": [
    {
     "data": {
      "text/plain": [
       "False"
      ]
     },
     "execution_count": 31,
     "metadata": {},
     "output_type": "execute_result"
    }
   ],
   "source": [
    "age = 17\n",
    "# senior = age > 18\n",
    "# not senior\n",
    "junior = age < 18\n",
    "# junior\n",
    "not junior"
   ]
  },
  {
   "cell_type": "markdown",
   "metadata": {},
   "source": [
    "# Control Flow statement"
   ]
  },
  {
   "cell_type": "markdown",
   "metadata": {},
   "source": [
    " 1. Conditional Statement\n",
    " 2. Looping Statement"
   ]
  },
  {
   "cell_type": "markdown",
   "metadata": {},
   "source": [
    "1. 1. If Statement"
   ]
  },
  {
   "cell_type": "code",
   "execution_count": 38,
   "metadata": {},
   "outputs": [
    {
     "name": "stdout",
     "output_type": "stream",
     "text": [
      "last\n"
     ]
    }
   ],
   "source": [
    "age = 20\n",
    "junior = age < 18\n",
    "\n",
    "if junior:  #: is called as colon, ; is called as semi-colon\n",
    "    print(\"You are not allowed to enter Club\")\n",
    "    print(\"alksdfj\")\n",
    "\n",
    "print(\"last\")"
   ]
  },
  {
   "cell_type": "markdown",
   "metadata": {},
   "source": [
    "1. 2. If else statement"
   ]
  },
  {
   "cell_type": "code",
   "execution_count": 40,
   "metadata": {},
   "outputs": [
    {
     "name": "stdout",
     "output_type": "stream",
     "text": [
      "Welcome to club, ENJOY !!!\n"
     ]
    }
   ],
   "source": [
    "# age = 20\n",
    "# junior = age < 18\n",
    "\n",
    "# if junior:  #: is called as colon, ; is called as semi-colon\n",
    "#     print(\"You are not allowed to enter Club\")\n",
    "# else:\n",
    "#     print(\"Welcome to club, ENJOY !!!\")\n",
    "\n",
    "\n",
    "age = 20\n",
    "senior = age >= 18\n",
    "\n",
    "\n",
    "if not senior:  #: is called as colon, ; is called as semi-colon\n",
    "    print(\"You are not allowed to enter Club\")\n",
    "else:\n",
    "    print(\"Welcome to club, ENJOY !!!\")\n",
    "\n"
   ]
  },
  {
   "cell_type": "markdown",
   "metadata": {},
   "source": [
    "1. 3. If elif else statement"
   ]
  },
  {
   "cell_type": "code",
   "execution_count": 43,
   "metadata": {},
   "outputs": [
    {
     "name": "stdout",
     "output_type": "stream",
     "text": [
      "welcome senior\n"
     ]
    }
   ],
   "source": [
    "college_year = 2\n",
    "fresher = college_year == 1\n",
    "senior = college_year > 1\n",
    "\n",
    "if fresher:\n",
    "    print(\"Warm Welcome to our college\")\n",
    "elif senior:\n",
    "    print(\"welcome senior\")\n",
    "#elif next condition\n",
    "#elif next condition\n",
    "#elif next condition\n",
    "else:\n",
    "    print(\"Who are you !\")\n",
    "\n",
    "\n",
    "\n"
   ]
  },
  {
   "cell_type": "code",
   "execution_count": 45,
   "metadata": {},
   "outputs": [
    {
     "name": "stdout",
     "output_type": "stream",
     "text": [
      "You are eligible for citizenship\n",
      "Sorry, you can't vote\n"
     ]
    }
   ],
   "source": [
    "age = 16\n",
    "adult = age>=16\n",
    "voter = age >= 18\n",
    "gender = \"male\"\n",
    "\n",
    "if adult:\n",
    "# if age>=:\n",
    "    print(\"You are eligible for citizenship\")\n",
    "else:\n",
    "    print(\"You are not eligible for citizenship\")\n",
    "\n",
    "\n",
    "if voter:\n",
    "    print(\"You can vote\")\n",
    "else:\n",
    "    print(\"Sorry, you can't vote\")"
   ]
  },
  {
   "cell_type": "code",
   "execution_count": null,
   "metadata": {},
   "outputs": [],
   "source": [
    "age = 16\n",
    "adult = age>=16\n",
    "voter = age >= 18\n",
    "gender = \"male\"\n",
    "\n",
    "if adult:\n",
    "    print(\"You are eligible for citizenship\")\n",
    "    if voter:\n",
    "        print(\"You can vote\")\n",
    "    else:\n",
    "        print(\"Sorry, you can't vote\")\n",
    "        #if \n",
    "        #else\n",
    "else:\n",
    "    print(\"You are not eligible for citizenship\")\n",
    "\n",
    "# if adult and voter:\n",
    "#     print(\"You can vote\")"
   ]
  },
  {
   "cell_type": "markdown",
   "metadata": {},
   "source": [
    "2. Looping statements"
   ]
  },
  {
   "cell_type": "markdown",
   "metadata": {},
   "source": [
    "1. For loop"
   ]
  },
  {
   "cell_type": "code",
   "execution_count": 59,
   "metadata": {},
   "outputs": [
    {
     "name": "stdout",
     "output_type": "stream",
     "text": [
      "1 blue\n",
      "2 white\n",
      "3 blue\n",
      "4 white\n",
      "5 blue\n",
      "6 white\n",
      "7 blue\n",
      "8 white\n",
      "9 blue\n",
      "10 white\n"
     ]
    }
   ],
   "source": [
    "# for letter in \"ram\":\n",
    "#     print(letter)\n",
    "\n",
    "# print(\"hello\")\n",
    "# print(\"hello\")\n",
    "# print(\"hello\")\n",
    "# print(\"hello\")\n",
    "# print(\"hello\")\n",
    "# for _ in range(5):\n",
    "#     print(\"hello\")\n",
    "\n",
    "#range(5) => 0,1,2,3,4, here 5 represents ending index\n",
    "#range(1,5) => here 1 means starting index, 5 means ending index\n",
    "#range(1,10,2)=> here 1 means starting index, 10 means ending index, and 2 means step value\n",
    "# for index in range(1,10,2):\n",
    "#     print(index)\n",
    "\n",
    "# print odd numbers from 80-90\n",
    "# for row_number in range(80, 91):\n",
    "#     odd = row_number % 2 == 1\n",
    "#     if odd:\n",
    "#         print(row_number)\n",
    "# for number in range(81, 91, 2):\n",
    "#     print(number)\n",
    "\n",
    "\n",
    "\n",
    "for row_number in range(1, 11):\n",
    "    odd = row_number % 2 == 1\n",
    "    if odd:\n",
    "        print(row_number, \"blue\")\n",
    "    else:\n",
    "        print(row_number, \"white\")\n",
    "\n"
   ]
  }
 ],
 "metadata": {
  "kernelspec": {
   "display_name": "Python 3",
   "language": "python",
   "name": "python3"
  },
  "language_info": {
   "codemirror_mode": {
    "name": "ipython",
    "version": 3
   },
   "file_extension": ".py",
   "mimetype": "text/x-python",
   "name": "python",
   "nbconvert_exporter": "python",
   "pygments_lexer": "ipython3",
   "version": "3.12.3"
  }
 },
 "nbformat": 4,
 "nbformat_minor": 2
}
