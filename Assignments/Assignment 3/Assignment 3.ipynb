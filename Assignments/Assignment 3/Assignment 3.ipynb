{
 "cells": [
  {
   "cell_type": "markdown",
   "metadata": {},
   "source": [
    "### Assignment Questions \n"
   ]
  },
  {
   "cell_type": "markdown",
   "metadata": {},
   "source": [
    "### 1. Functions with Return Statements"
   ]
  },
  {
   "cell_type": "markdown",
   "metadata": {},
   "source": [
    "1. Write a function calculate_area() that takes the length and width of a rectangle as parameters, \n",
    "calculates the area, and returns the result. Call the function and print the returned value."
   ]
  },
  {
   "cell_type": "code",
   "execution_count": 1,
   "metadata": {},
   "outputs": [
    {
     "data": {
      "text/plain": [
       "20"
      ]
     },
     "execution_count": 1,
     "metadata": {},
     "output_type": "execute_result"
    }
   ],
   "source": [
    "def calculate_area(length, width):\n",
    "    return length * width\n",
    "calculate_area(5, 4)"
   ]
  },
  {
   "cell_type": "markdown",
   "metadata": {},
   "source": [
    "2. Create a function is_prime() that takes an integer as input and returns True if the number is \n",
    "prime, otherwise returns False. Test the function with different values."
   ]
  },
  {
   "cell_type": "code",
   "execution_count": 4,
   "metadata": {},
   "outputs": [
    {
     "data": {
      "text/plain": [
       "True"
      ]
     },
     "execution_count": 4,
     "metadata": {},
     "output_type": "execute_result"
    }
   ],
   "source": [
    "def is_prime(n):\n",
    "    if n <= 1:\n",
    "        return False\n",
    "    for i in range (2, int(n**0.5) + 1):\n",
    "        if n % i == 0:\n",
    "            return False\n",
    "    return True\n",
    "is_prime(5)"
   ]
  },
  {
   "cell_type": "markdown",
   "metadata": {},
   "source": [
    "3. Write a function find_largest() that accepts a list of numbers, finds the largest number, and \n",
    "returns it. Demonstrate the function with a sample list."
   ]
  },
  {
   "cell_type": "code",
   "execution_count": 5,
   "metadata": {},
   "outputs": [
    {
     "data": {
      "text/plain": [
       "5"
      ]
     },
     "execution_count": 5,
     "metadata": {},
     "output_type": "execute_result"
    }
   ],
   "source": [
    "def find_largest(number):\n",
    "    return max(number)\n",
    "find_largest([1, 2, 3, 4, 5])"
   ]
  },
  {
   "cell_type": "markdown",
   "metadata": {},
   "source": [
    "4. Implement a function fahrenheit_to_celsius() that converts a given temperature in Fahrenheit to \n",
    "Celsius and returns the result. Use the formula: 𝐶𝑒𝑙𝑠𝑖𝑢𝑠 = (𝐹𝑎ℎ𝑟𝑒𝑛ℎ𝑒𝑖𝑡 − 32) × 5/9"
   ]
  },
  {
   "cell_type": "code",
   "execution_count": 6,
   "metadata": {},
   "outputs": [
    {
     "data": {
      "text/plain": [
       "20.0"
      ]
     },
     "execution_count": 6,
     "metadata": {},
     "output_type": "execute_result"
    }
   ],
   "source": [
    "def fahrenheit_to_celsius(f):\n",
    "    return (f - 32) * 5/9\n",
    "fahrenheit_to_celsius(68)"
   ]
  },
  {
   "cell_type": "markdown",
   "metadata": {},
   "source": [
    " 5. Write a function calculate_average() that accepts a list of grades, calculates the average, and \n",
    "returns whether the student has passed or failed (passing grade is 50)."
   ]
  },
  {
   "cell_type": "code",
   "execution_count": 8,
   "metadata": {},
   "outputs": [
    {
     "name": "stdout",
     "output_type": "stream",
     "text": [
      "Pass\n",
      "Fail\n"
     ]
    }
   ],
   "source": [
    "def calculate_average(grades):\n",
    "    average = sum(grades) / len(grades)\n",
    "    return \"Pass\" if average >=50 else \"Fail\"\n",
    "print(calculate_average([50, 60, 70]))\n",
    "print(calculate_average([30, 40, 50]))"
   ]
  },
  {
   "cell_type": "markdown",
   "metadata": {},
   "source": [
    "## 2. Lambda Functions"
   ]
  },
  {
   "cell_type": "markdown",
   "metadata": {},
   "source": [
    "1. Write a lambda function to calculate the square of a number. Use it with at least three different \n",
    "numbers. \n"
   ]
  },
  {
   "cell_type": "code",
   "execution_count": 9,
   "metadata": {},
   "outputs": [
    {
     "name": "stdout",
     "output_type": "stream",
     "text": [
      "25\n",
      "100\n"
     ]
    }
   ],
   "source": [
    "square = lambda x: x**2\n",
    "print(square(5))\n",
    "print(square(10))"
   ]
  },
  {
   "cell_type": "markdown",
   "metadata": {},
   "source": [
    "2. Create a list of numbers from 1 to 10. Use a lambda function with filter() to extract all even \n",
    "numbers from the list. \n"
   ]
  },
  {
   "cell_type": "code",
   "execution_count": 10,
   "metadata": {},
   "outputs": [
    {
     "name": "stdout",
     "output_type": "stream",
     "text": [
      "[2, 4, 6, 8, 10]\n"
     ]
    }
   ],
   "source": [
    "numbers = list(range(1, 11))\n",
    "even_numbers = list(filter(lambda x: x % 2 == 0, numbers))\n",
    "print(even_numbers)"
   ]
  },
  {
   "cell_type": "markdown",
   "metadata": {},
   "source": [
    "3. Use a lambda function with map() to convert a list of temperatures in Celsius to Fahrenheit. The \n",
    "formula is: 𝐹𝑎ℎ𝑟𝑒𝑛ℎ𝑒𝑖𝑡 = 𝐶𝑒𝑙𝑠𝑖𝑢𝑠 × 9/5+32 \n"
   ]
  },
  {
   "cell_type": "code",
   "execution_count": 11,
   "metadata": {},
   "outputs": [
    {
     "name": "stdout",
     "output_type": "stream",
     "text": [
      "[32.0, 68.0, 86.0, 104.0, 122.0]\n"
     ]
    }
   ],
   "source": [
    "celsius_temp = [0, 20, 30, 40, 50]\n",
    "fahrenheit_temp = list(map(lambda c: c*9/5 + 32, celsius_temp))\n",
    "print(fahrenheit_temp)"
   ]
  },
  {
   "cell_type": "markdown",
   "metadata": {},
   "source": [
    "4. Write a lambda function that checks if a string starts with the letter 'A'. Test it with multiple \n",
    "strings."
   ]
  },
  {
   "cell_type": "code",
   "execution_count": 14,
   "metadata": {},
   "outputs": [
    {
     "name": "stdout",
     "output_type": "stream",
     "text": [
      "True\n",
      "False\n"
     ]
    }
   ],
   "source": [
    "start_with_a = lambda s:s.startswith('A')\n",
    "print(start_with_a(\"Apple\"))\n",
    "print(start_with_a(\"Banana\"))"
   ]
  },
  {
   "cell_type": "markdown",
   "metadata": {},
   "source": [
    "# 3. Making Simple Modules \n",
    "1. Create a module named math_operations.py with functions to perform addition, subtraction, \n",
    "multiplication, and division. Import the module and demonstrate each function with examples."
   ]
  },
  {
   "cell_type": "code",
   "execution_count": 1,
   "metadata": {},
   "outputs": [
    {
     "name": "stdout",
     "output_type": "stream",
     "text": [
      "5 + 9 + 3 = 14\n",
      "5 - 9 = -4\n",
      "5 * 9 = 45\n",
      "5 / 9 = 0.5555555555555556\n"
     ]
    }
   ],
   "source": [
    "import math_operations\n",
    "\n",
    "num1 = int(input('Enter first number: '))\n",
    "num2 = int(input('Enter second number: '))\n",
    "\n",
    "result_add = math_operations.add(num1, num2) \n",
    "print(f'{num1} + {num2} + 3 = {result_add}')\n",
    "\n",
    "result_subtract = math_operations.subtract(num1, num2)\n",
    "print(f'{num1} - {num2} = {result_subtract}')\n",
    "\n",
    "result_multiply = math_operations.multiply(num1, num2)\n",
    "print(f'{num1} * {num2} = {result_multiply}')\n",
    "\n",
    "result_divide = math_operations.divide(num1, num2)\n",
    "print(f'{num1} / {num2} = {result_divide}')\n"
   ]
  },
  {
   "cell_type": "markdown",
   "metadata": {},
   "source": [
    "2. Write a module named string_utilities.py containing functions to:  \n",
    "- Count the number of vowels in a string. \n",
    "- Reverse a string. \n",
    "- Check if a string is a palindrome. \n",
    "Import the module and test the functions with different inputs."
   ]
  },
  {
   "cell_type": "code",
   "execution_count": 3,
   "metadata": {},
   "outputs": [
    {
     "name": "stdout",
     "output_type": "stream",
     "text": [
      "Number of vowels in Prakash KC is 2\n",
      "Reverse of Prakash KC is CK hsakarP\n",
      "No, Prakash KC is not palindrome\n",
      "Is Prakash KC a palindrome? False\n"
     ]
    }
   ],
   "source": [
    "import string_utilities as su\n",
    "\n",
    "string = input(\"Enter a string: \")\n",
    "vowels_count = su.count_vowels(string)\n",
    "print(f\"Number of vowels in {string} is {vowels_count}\")\n",
    "print(f\"Reverse of {string} is {su.reverse_string(string)}\")\n",
    "\n",
    "message = f\"Yes, {string} is palindrome\" if su.is_palindrome(string) else f\"No, {string} is not palindrome\"\n",
    "\n",
    "print(message)\n",
    "print(f\"Is {string} a palindrome? {su.is_palindrome(string)}\")"
   ]
  },
  {
   "cell_type": "markdown",
   "metadata": {},
   "source": [
    "3. Create a module geometry.py with functions to calculate:  \n",
    "* Area of a circle (given radius). \n",
    "* Area of a triangle (given base and height). \n",
    "Import the module and use it in another script to calculate areas. "
   ]
  },
  {
   "cell_type": "markdown",
   "metadata": {},
   "source": [
    "* Area of a circle (given radius). "
   ]
  },
  {
   "cell_type": "code",
   "execution_count": null,
   "metadata": {},
   "outputs": [
    {
     "name": "stdout",
     "output_type": "stream",
     "text": [
      "Area of the circle is 254.47, radius 9\n"
     ]
    }
   ],
   "source": [
    "import geometry\n",
    "\n",
    "radius= int(input(\"Enter the radius of the circle: \"))\n",
    "\n",
    "print(f\"Area of the circle is {geometry.area_of_circle(radius):.2f}, radius {radius}\")"
   ]
  },
  {
   "cell_type": "markdown",
   "metadata": {},
   "source": [
    "* Area of a triangle (given base and height). "
   ]
  },
  {
   "cell_type": "code",
   "execution_count": 1,
   "metadata": {},
   "outputs": [
    {
     "name": "stdout",
     "output_type": "stream",
     "text": [
      "Area of the triangle with base 8 and height 9: 36.00\n"
     ]
    }
   ],
   "source": [
    "import geometry\n",
    "\n",
    "base = int(input(\"Enter the base of the triangle: \"))\n",
    "height = int(input(\"Enter the height of the triangle: \"))\n",
    "triangle_area = geometry.area_of_triangle(base, height)\n",
    "if triangle_area is not None:\n",
    "    print(f\"Area of the triangle with base {base} and height {height}: {triangle_area:.2f}\")"
   ]
  },
  {
   "cell_type": "markdown",
   "metadata": {},
   "source": [
    "4. Create a module currency_converter.py with a function that converts a given amount from one \n",
    "currency to another. Use exchange rates (like USD to INR or EUR to USD) as constants."
   ]
  },
  {
   "cell_type": "code",
   "execution_count": 3,
   "metadata": {},
   "outputs": [
    {
     "name": "stdout",
     "output_type": "stream",
     "text": [
      "Constructed conversion key: USD_TO_GBP\n",
      "The result of conversion is: 75.0\n"
     ]
    }
   ],
   "source": [
    "from currency_converter import currency_converter\n",
    "\n",
    "from_currency = input(\"Enter the currency you have (e.g., USD, EUR, GBP): \").upper()\n",
    "to_currency = input(\"Enter the currency you want to convert to (e.g., USD, EUR, GBP): \").upper()\n",
    "\n",
    "try:\n",
    "    amount = float(input(f\"Enter the amount in {from_currency}: \"))\n",
    "    if amount < 0:\n",
    "        raise ValueError(\"Amount must be a positive number.\")\n",
    "except ValueError as e:\n",
    "    print(f\"Invalid input: {e}\")\n",
    "else:\n",
    "    result, error_message = currency_converter(from_currency, to_currency, amount)\n",
    "    \n",
    "    if error_message:\n",
    "        print(error_message)\n",
    "    else:\n",
    "        print(f\"The result of conversion is: {result}\")"
   ]
  },
  {
   "cell_type": "markdown",
   "metadata": {},
   "source": [
    "# 4. Concept of Making Simple Packages \n",
    "1. Create a package named math_tools with submodules:  \n",
    "- basic_operations.py (functions: addition, subtraction)."
   ]
  },
  {
   "cell_type": "code",
   "execution_count": 3,
   "metadata": {},
   "outputs": [
    {
     "name": "stdout",
     "output_type": "stream",
     "text": [
      "Addition: 13\n",
      "Subtraction: -3\n"
     ]
    }
   ],
   "source": [
    "from math_tools import basic_operations as bo\n",
    "\n",
    "num1 = int(input(\"Enter the first number: \"))\n",
    "num2 = int(input(\"Enter the second number: \"))\n",
    "\n",
    "print(f\"Addition: {bo.addition(num1, num2)}\")\n",
    "print(f\"Subtraction: {bo.subtraction(num1, num2)}\")\n"
   ]
  },
  {
   "cell_type": "markdown",
   "metadata": {},
   "source": [
    "- advanced_operations.py (functions: factorial, power). \n",
    "Use the package in a script to demonstrate its functionality."
   ]
  },
  {
   "cell_type": "code",
   "execution_count": 1,
   "metadata": {},
   "outputs": [
    {
     "name": "stdout",
     "output_type": "stream",
     "text": [
      "factorial of 5 is 120\n"
     ]
    }
   ],
   "source": [
    "from math_tools import advanced_operations as ao\n",
    "num1 = int(input(\"Enter a number: \"))\n",
    "\n",
    "result = ao.factorial(num1)\n",
    "\n",
    "print(f'factorial of {num1} is {result}')"
   ]
  },
  {
   "cell_type": "markdown",
   "metadata": {},
   "source": [
    "2. Build a package named text_processing with submodules:  \n",
    "o cleaning.py (function: remove special characters). \n",
    "o analyzing.py (function: count word frequency). \n",
    "Import the package in a script and test it with a sample string. "
   ]
  },
  {
   "cell_type": "code",
   "execution_count": 2,
   "metadata": {},
   "outputs": [
    {
     "name": "stdout",
     "output_type": "stream",
     "text": [
      "cleaned text:  Hello world Welcome to text processing world\n",
      "Word frequency: {'Hello': 1, 'world': 2, 'Welcome': 1, 'to': 1, 'text': 1, 'processing': 1}\n"
     ]
    }
   ],
   "source": [
    "from text_processing.cleaning import remove_special_characters as rsc\n",
    "from text_processing.analyzing import count_word_frequency as cwf\n",
    "\n",
    "text = input(\"Enter a text: \")\n",
    "\n",
    "#cleaning the text\n",
    "cleaned_text = rsc(text)\n",
    "\n",
    "#analyzing the text\n",
    "word_frequency = cwf(cleaned_text)\n",
    "\n",
    "\n",
    "print(\"cleaned text: \", cleaned_text)\n",
    "print(\"Word frequency:\", word_frequency)\n",
    "\n"
   ]
  },
  {
   "cell_type": "markdown",
   "metadata": {},
   "source": [
    "3. Create a package conversion_tools with submodules:  \n",
    "- length_conversion.py (functions: meters to kilometers, inches to feet). \n",
    "Write a script to use the package for performing conversions."
   ]
  },
  {
   "cell_type": "code",
   "execution_count": 2,
   "metadata": {},
   "outputs": [
    {
     "name": "stdout",
     "output_type": "stream",
     "text": [
      "5000.0 meters is equal to 5.00 kilometers\n",
      "250.0 inches is equal to 20.83 feet\n"
     ]
    }
   ],
   "source": [
    "from conversion_tools import length_conversion as lc\n",
    "\n",
    "meters = float(input(\"Enter the length in meters: \"))\n",
    "inches = float(input(\"Enter the length in inches: \"))\n",
    "\n",
    "kilometers = lc.meters_to_kilometers(meters)\n",
    "feet = lc.inches_to_feet(inches)\n",
    "\n",
    "print(f\"{meters} meters is equal to {kilometers:.2f} kilometers\")\n",
    "print(f\"{inches} inches is equal to {feet:.2f} feet\")"
   ]
  },
  {
   "cell_type": "markdown",
   "metadata": {},
   "source": [
    "- weight_conversion.py (functions: kilograms to pounds, grams to kilograms). "
   ]
  },
  {
   "cell_type": "code",
   "execution_count": 6,
   "metadata": {},
   "outputs": [
    {
     "name": "stdout",
     "output_type": "stream",
     "text": [
      "1.0 kilograms is equal to 2.20 pounds\n",
      "25.0 grams is equal to 0.03 kilograms\n"
     ]
    }
   ],
   "source": [
    "from conversion_tools import weight_conversion as wc\n",
    "\n",
    "kilogram = float(input(\"Enter the weight in kilograms: \"))\n",
    "grams = float(input(\"Enter the weight in grams: \"))\n",
    "\n",
    "pounds = wc.kilograms_to_pounds(kilogram)\n",
    "kilograms = wc.grams_to_kilograms(grams)\n",
    "\n",
    "print(f\"{kilogram} kilograms is equal to {pounds:.2f} pounds\")\n",
    "print(f\"{grams} grams is equal to {kilograms:.2f} kilograms\")"
   ]
  }
 ],
 "metadata": {
  "kernelspec": {
   "display_name": "Python 3",
   "language": "python",
   "name": "python3"
  },
  "language_info": {
   "codemirror_mode": {
    "name": "ipython",
    "version": 3
   },
   "file_extension": ".py",
   "mimetype": "text/x-python",
   "name": "python",
   "nbconvert_exporter": "python",
   "pygments_lexer": "ipython3",
   "version": "3.13.1"
  }
 },
 "nbformat": 4,
 "nbformat_minor": 2
}
