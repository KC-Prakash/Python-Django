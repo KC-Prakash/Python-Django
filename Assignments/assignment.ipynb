{
 "cells": [
  {
   "cell_type": "markdown",
   "metadata": {},
   "source": [
    "Assignment Questions"
   ]
  },
  {
   "cell_type": "markdown",
   "metadata": {},
   "source": [
    "1. Basic Calculator: \n",
    "Write a Python program that:  \n",
    "o Takes two numbers as input from the user. \n",
    "o Asks the user to choose an operation: addition, subtraction, multiplication, division, or \n",
    "modulus. \n",
    "o Performs the chosen operation and prints the result. \n",
    "o Use if-elif-else to handle the operation selection."
   ]
  },
  {
   "cell_type": "code",
   "execution_count": 4,
   "metadata": {},
   "outputs": [
    {
     "name": "stdout",
     "output_type": "stream",
     "text": [
      "Divide Result Cannot divide by zero\n"
     ]
    }
   ],
   "source": [
    "operation = input(\"choose option (add, subtract, multiply, divide, modulus):\").lower()\n",
    "\n",
    "num1 = float(input(\"Enter first Number: \"))\n",
    "num2 = float(input(\"Enter second Number: \"))\n",
    "\n",
    "if operation == \"add\":\n",
    "    print(\"Sum Result:\", num1+num2)\n",
    "elif operation ==\"subtract\":   \n",
    "    print(\"Subtract Result\", num1-num2)\n",
    "elif operation == \"multiply\":\n",
    "    print(\"Multiply Result\", num1*num2)\n",
    "elif operation ==\"divide\":\n",
    "    print(\"Divide Result\", num1/num2 if num2 != 0 else \"Cannot divide by zero\")\n",
    "elif operation ==\"modulus\":\n",
    "    print(\"Modulus Result\",num1%num2)\n",
    "else:\n",
    "    print(\"Invalid Operators\")\n"
   ]
  },
  {
   "cell_type": "markdown",
   "metadata": {},
   "source": [
    "2. Grading System: \n",
    "Write a program to:  \n",
    "o Take a student's name and marks in 3 subjects as input. \n",
    "o Calculate the total and average marks. \n",
    "o Display the grade based on the following criteria:  \n",
    "    ▪ A: Average >= 80 \n",
    "    ▪ B: 60 <= Average < 80 \n",
    "    ▪ C: 40 <= Average < 60 \n",
    "    ▪ F: Average < 40 \n",
    "o Print the name, total marks, average marks, and grade."
   ]
  },
  {
   "cell_type": "code",
   "execution_count": 5,
   "metadata": {},
   "outputs": [
    {
     "name": "stdout",
     "output_type": "stream",
     "text": [
      "Name: Prakash KC\n",
      "Total Marks: 219.0\n",
      "Average: 73.0\n",
      "Grade: B\n"
     ]
    }
   ],
   "source": [
    "name = input(\"Enter student's name: \")\n",
    "marks = [float(input(f\"enter marks for subject{i+1}: \")) for i in range(3)]\n",
    "total =sum(marks)\n",
    "average = total/3\n",
    "\n",
    "if average >= 80:\n",
    "    grade = \"A\"\n",
    "elif 60 <=average < 80:\n",
    "    grade = \"B\"\n",
    "elif 40 <= average < 60:\n",
    "    grade = \"C\"\n",
    "else:\n",
    "    grade = \"F\"\n",
    "\n",
    "print(f\"Name: {name}\\nTotal Marks: {total}\\nAverage: {average}\\nGrade: {grade}\")"
   ]
  },
  {
   "cell_type": "markdown",
   "metadata": {},
   "source": [
    "3. Number Properties: \n",
    "Write a program to:  \n",
    "o Take a number as input from the user. \n",
    "o Check and print whether the number is:  \n",
    "    ▪ Positive or negative. \n",
    "    ▪ Even or odd. \n",
    "o Use relational operators and an if-else statement for the checks. \n"
   ]
  },
  {
   "cell_type": "code",
   "execution_count": 8,
   "metadata": {},
   "outputs": [
    {
     "name": "stdout",
     "output_type": "stream",
     "text": [
      "Positive\n",
      "Even\n"
     ]
    }
   ],
   "source": [
    "number = int(input(\"Enter a number: \"))\n",
    "if number >=0:\n",
    "    print(\"Positive\")\n",
    "else:\n",
    "    print(\"Negative\")\n",
    "print(\"Even\" if number %2 == 0 else \"Odd\")"
   ]
  },
  {
   "cell_type": "markdown",
   "metadata": {},
   "source": [
    "4. Range Sum and Multiples: \n",
    "Create a program that:  \n",
    "o Takes two numbers, start and end, as input from the user. \n",
    "o Calculates the sum of all numbers in the range [start, end] using a for loop and the \n",
    "range() function. \n",
    "o Counts how many of these numbers are divisible by 3 and prints the count. "
   ]
  },
  {
   "cell_type": "code",
   "execution_count": 10,
   "metadata": {},
   "outputs": [
    {
     "name": "stdout",
     "output_type": "stream",
     "text": [
      "Sum: 5005\n",
      "Count divisible by 3: 30\n"
     ]
    }
   ],
   "source": [
    "start = int(input(\"Enter start number: \"))\n",
    "end = int(input(\"Enter end number: \"))\n",
    "\n",
    "total_sum = sum(range(start, end+1))\n",
    "count_divisible_by_3 = sum(1 for i in range (start, end +1) if i % 3 ==0)\n",
    "\n",
    "print(\"Sum:\", total_sum)\n",
    "print(\"Count divisible by 3:\", count_divisible_by_3)"
   ]
  },
  {
   "cell_type": "markdown",
   "metadata": {},
   "source": [
    "5. Logical Operators - Eligibility Check: \n",
    "Write a program to:  \n",
    "o Take a user's age and income as input. \n",
    "o Check if the user is eligible for a loan based on the following criteria:\n",
    "    ▪ Age must be between 18 and 60 (inclusive). \n",
    "    ▪ Income must be greater than or equal to $30,000. \n",
    "o Use logical operators (and, or) and print the result as \"Eligible\" or \"Not Eligible\". "
   ]
  },
  {
   "cell_type": "code",
   "execution_count": 12,
   "metadata": {},
   "outputs": [
    {
     "name": "stdout",
     "output_type": "stream",
     "text": [
      "Eligible\n"
     ]
    }
   ],
   "source": [
    "age = int(input(\"Enter age: \"))\n",
    "income = float(input(\"Enter income: \"))\n",
    "\n",
    "if 18 <= age <=60 and income >=30000:\n",
    "    print(\"Eligible\")\n",
    "else:\n",
    "    print(\"Not Eligible\")"
   ]
  },
  {
   "cell_type": "markdown",
   "metadata": {},
   "source": [
    "6. Prime Number Finder: \n",
    "Write a program to:  \n",
    "o Take a number as input from the user. \n",
    "o Use a for loop to check if the number is prime. \n",
    "o Print \"Prime\" if the number is prime; otherwise, print \"Not Prime\"."
   ]
  },
  {
   "cell_type": "code",
   "execution_count": 16,
   "metadata": {},
   "outputs": [
    {
     "name": "stdout",
     "output_type": "stream",
     "text": [
      "Prime\n"
     ]
    }
   ],
   "source": [
    "number = int(input(\"Enter a number: \"))\n",
    "prime_num = number > 1 and all(number % i != 0 for i in range(2, int(number**0.5) + 1))\n",
    "print(\"Prime\" if prime_num else \"Not Prime\")"
   ]
  },
  {
   "cell_type": "markdown",
   "metadata": {},
   "source": [
    "7. Multiplication Table: \n",
    "Create a program that:  \n",
    "o Takes a number as input from the user. \n",
    "o Prints the multiplication table for that number (from 1 to 10) using a for loop and the \n",
    "range() function."
   ]
  },
  {
   "cell_type": "code",
   "execution_count": 17,
   "metadata": {},
   "outputs": [
    {
     "name": "stdout",
     "output_type": "stream",
     "text": [
      "8 x 1 = 8\n",
      "8 x 2 = 16\n",
      "8 x 3 = 24\n",
      "8 x 4 = 32\n",
      "8 x 5 = 40\n",
      "8 x 6 = 48\n",
      "8 x 7 = 56\n",
      "8 x 8 = 64\n",
      "8 x 9 = 72\n",
      "8 x 10 = 80\n"
     ]
    }
   ],
   "source": [
    "number = int(input(\"Enter a number: \"))\n",
    "for i in range(1,11):\n",
    "    print(f\"{number} x {i} = {number * i}\")"
   ]
  },
  {
   "cell_type": "markdown",
   "metadata": {},
   "source": [
    "8. Simple Interest Calculator: \n",
    "Write a program to:  \n",
    "o Take the principal amount, rate of interest, and time (in years) as input from the user. \n",
    "o Calculate the simple interest using the formula: \n",
    "Simple Interest= 𝑷× 𝑻× 𝑹/\n",
    " 𝟏𝟎𝟎\n",
    " o Print the calculated interest and the total amount (Principal + Interest)."
   ]
  },
  {
   "cell_type": "code",
   "execution_count": 18,
   "metadata": {},
   "outputs": [
    {
     "name": "stdout",
     "output_type": "stream",
     "text": [
      "Simple Interest: 3250.0\n",
      "Total Amount: 28250.0\n"
     ]
    }
   ],
   "source": [
    "principal = float(input(\"Enter principal amount: \"))\n",
    "rate = float(input(\"Enter rate of interest: \"))\n",
    "time = float(input(\"Enter time in years: \"))\n",
    "\n",
    "simple_interest = (principal*rate*time)/100\n",
    "total_amount = principal+simple_interest\n",
    "\n",
    "print(\"Simple Interest:\", simple_interest)\n",
    "print(\"Total Amount:\", total_amount)\n"
   ]
  },
  {
   "cell_type": "markdown",
   "metadata": {},
   "source": [
    "9. Leap Year Checker \n",
    "Write a program to: \n",
    "• Take a year as input from the user. \n",
    "• Use an if-else statement and relational operators to check if the year is a leap year \n",
    "based on the following rule:  \n",
    "o A year is a leap year if it is divisible by 4, except for years divisible by 100 \n",
    "unless they are also divisible by 400. \n",
    "• Print \"Leap Year\" if the year is a leap year, otherwise print \"Not a Leap Year\"."
   ]
  },
  {
   "cell_type": "code",
   "execution_count": 22,
   "metadata": {},
   "outputs": [
    {
     "name": "stdout",
     "output_type": "stream",
     "text": [
      "Leap Year\n"
     ]
    }
   ],
   "source": [
    "year = int(input(\"Enter a year: \"))\n",
    "if (year % 4 == 0 and year % 100 != 0) or (year % 400 == 0):\n",
    "    print(\"Leap Year\")\n",
    "else:\n",
    "    print(\"Not a Leap Year\")"
   ]
  },
  {
   "cell_type": "markdown",
   "metadata": {},
   "source": [
    "10. Even or Odd Numbers in a Range \n",
    "Write a program to: \n",
    "• Take two numbers, start and end, as input from the user. \n",
    "• Print all even numbers between start and end (inclusive). \n",
    "• Use a for loop and an if statement to check if each number is even."
   ]
  },
  {
   "cell_type": "code",
   "execution_count": 23,
   "metadata": {},
   "outputs": [
    {
     "name": "stdout",
     "output_type": "stream",
     "text": [
      "Even number: [26, 28, 30, 32, 34, 36, 38, 40, 42, 44, 46, 48, 50, 52, 54, 56]\n"
     ]
    }
   ],
   "source": [
    "start = int(input(\"Enter start number: \"))\n",
    "end = int(input(\"Enter end number: \"))\n",
    "print(\"Even number:\", [i for i in range(start, end+1) if i % 2 == 0])"
   ]
  },
  {
   "cell_type": "markdown",
   "metadata": {},
   "source": [
    "11. Age Category \n",
    "Create a program that: \n",
    "• Takes a person's age as input. \n",
    "• Classifies the person into one of the following categories using an if-elif-else block:  \n",
    "o Child: age < 13 \n",
    "o Teenager: 13 <= age <= 19 \n",
    "o Adult: 20 <= age <= 59 \n",
    "o Senior: age >= 60 \n",
    "• Print the age category."
   ]
  },
  {
   "cell_type": "code",
   "execution_count": 24,
   "metadata": {},
   "outputs": [
    {
     "name": "stdout",
     "output_type": "stream",
     "text": [
      "Adult\n"
     ]
    }
   ],
   "source": [
    "age = int(input(\"Enter age: \"))\n",
    "if age < 13:\n",
    "    print(\"Child\")\n",
    "elif 13 <= age <= 19:\n",
    "    print(\"Teenager\")\n",
    "elif 20 <= age <=59:\n",
    "    print(\"Adult\")\n",
    "else:\n",
    "    print(\"Senior\")"
   ]
  },
  {
   "cell_type": "markdown",
   "metadata": {},
   "source": [
    "12. Factorial Calculation \n",
    "Write a program to: \n",
    "• Take a number n as input from the user. \n",
    "• Use a for loop to calculate and print the factorial of the number (n! = n * (n-1) * ... * 1). \n",
    "• Handle the case when the user enters 0 or 1 (Factorial of 0 and 1 is 1)."
   ]
  },
  {
   "cell_type": "code",
   "execution_count": 31,
   "metadata": {},
   "outputs": [
    {
     "name": "stdout",
     "output_type": "stream",
     "text": [
      "Factorial of 10 is 3628800\n"
     ]
    }
   ],
   "source": [
    "number = int(input(\"Enter a number: \"))\n",
    "factorial = 1\n",
    "for i in range (1, number + 1):\n",
    "    factorial *= i\n",
    "print(f\"Factorial of {number} is {factorial}\")"
   ]
  }
 ],
 "metadata": {
  "kernelspec": {
   "display_name": "Python 3",
   "language": "python",
   "name": "python3"
  },
  "language_info": {
   "codemirror_mode": {
    "name": "ipython",
    "version": 3
   },
   "file_extension": ".py",
   "mimetype": "text/x-python",
   "name": "python",
   "nbconvert_exporter": "python",
   "pygments_lexer": "ipython3",
   "version": "3.13.1"
  }
 },
 "nbformat": 4,
 "nbformat_minor": 2
}
