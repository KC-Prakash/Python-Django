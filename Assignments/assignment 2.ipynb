{
 "cells": [
  {
   "cell_type": "markdown",
   "metadata": {},
   "source": [
    "### Assignment Questions"
   ]
  },
  {
   "cell_type": "markdown",
   "metadata": {},
   "source": [
    "1. Write a program using a while loop to print the numbers from 1 to 10. \n",
    "- Hint: Use a counter variable initialized to 1. Increment the counter by 1 in each iteration and \n",
    "print it. Use a condition counter <= 10 for the loop."
   ]
  },
  {
   "cell_type": "code",
   "execution_count": 1,
   "metadata": {},
   "outputs": [
    {
     "name": "stdout",
     "output_type": "stream",
     "text": [
      "1\n",
      "2\n",
      "3\n",
      "4\n",
      "5\n",
      "6\n",
      "7\n",
      "8\n",
      "9\n",
      "10\n"
     ]
    }
   ],
   "source": [
    "counter = 1\n",
    "while counter <=10:\n",
    "    print(counter)\n",
    "    counter +=1"
   ]
  },
  {
   "cell_type": "markdown",
   "metadata": {},
   "source": [
    "2. Modify the above program to skip printing the number 5 using the continue statement. \n",
    "- Hint: Add an if condition inside the loop to check if the counter equals 5. Use the continue \n",
    "statement to skip the rest of the loop body for that iteration."
   ]
  },
  {
   "cell_type": "code",
   "execution_count": 2,
   "metadata": {},
   "outputs": [
    {
     "name": "stdout",
     "output_type": "stream",
     "text": [
      "1\n",
      "2\n",
      "3\n",
      "4\n",
      "6\n",
      "7\n",
      "8\n",
      "9\n",
      "10\n"
     ]
    }
   ],
   "source": [
    "counter = 1\n",
    "while counter <=10:\n",
    "    if counter == 5:\n",
    "        counter += 1\n",
    "        continue\n",
    "    print(counter)\n",
    "    counter +=1\n",
    "    "
   ]
  },
  {
   "cell_type": "markdown",
   "metadata": {},
   "source": [
    "3. Write a program to sum up the digits of a number entered by the user until the sum becomes a \n",
    "single-digit number. \n",
    "- Hint: Use num % 10 to extract the last digit and num // 10 to remove it. Keep summing the \n",
    "digits in a loop. If the sum has more than one digit, repeat the process. \n",
    "Example:   \n",
    "1. num=534, now add 5+3+4 \n",
    "2.  sum = 12, since sum has more than 1 digit, sum the digits again, like 1+2 \n",
    "3. sum = 3, finally sum has only one digit, exit the loop"
   ]
  },
  {
   "cell_type": "code",
   "execution_count": 13,
   "metadata": {},
   "outputs": [
    {
     "name": "stdout",
     "output_type": "stream",
     "text": [
      "Find single digit sum: 3\n"
     ]
    }
   ],
   "source": [
    "num = int(input(\"Enter a number: \"))\n",
    "while num >= 10:\n",
    "    sum_digits = 0\n",
    "    while num > 0:\n",
    "        sum_digits +=num % 10\n",
    "        num //= 10\n",
    "    num = sum_digits\n",
    "print(f\"Find single digit sum: {num}\")"
   ]
  },
  {
   "cell_type": "markdown",
   "metadata": {},
   "source": [
    "4. Create a while loop that continuously takes user input and stops when the user enters \"exit\" (use \n",
    "break). \n",
    "- Hint: Use input() to read user input in the loop. Check if the input equals \"exit\". If true, use the \n",
    "break statement to exit the loop."
   ]
  },
  {
   "cell_type": "code",
   "execution_count": 17,
   "metadata": {},
   "outputs": [
    {
     "name": "stdout",
     "output_type": "stream",
     "text": [
      "Your entered: prakash\n"
     ]
    }
   ],
   "source": [
    "while True:\n",
    "    user_input = input(\"Enter something (text 'exit to quit): \")\n",
    "    if user_input.lower() == 'exit':\n",
    "        break\n",
    "    print(f'Your entered: {user_input}')"
   ]
  },
  {
   "cell_type": "markdown",
   "metadata": {},
   "source": [
    "5. Write a program to find the smallest divisor of a given number using a while loop. \n",
    "- Hint: Start with a divisor of 2 (smallest prime number) and increment it in each iteration. Use \n",
    "the modulus operator % to check if the number is divisible by the divisor."
   ]
  },
  {
   "cell_type": "code",
   "execution_count": 20,
   "metadata": {},
   "outputs": [
    {
     "name": "stdout",
     "output_type": "stream",
     "text": [
      "Smallest divisor of 25 is 5\n"
     ]
    }
   ],
   "source": [
    "num = int(input(\"Enter a number:\"))\n",
    "divisor = 2\n",
    "while divisor <=num:\n",
    "    if num % divisor == 0:\n",
    "        print(f\"Smallest divisor of {num} is {divisor}\")\n",
    "        break\n",
    "    divisor +=1"
   ]
  },
  {
   "cell_type": "markdown",
   "metadata": {},
   "source": [
    "6. Create a program to print all even numbers between 1 and 20 using a while loop, skipping multiples \n",
    "of 6 (use continue). \n",
    "- Hint: Use a condition to check if the number is even (num % 2 == 0) and print it. If it’s also a \n",
    "multiple of 6 (num % 6 == 0), use continue to skip printing."
   ]
  },
  {
   "cell_type": "code",
   "execution_count": 21,
   "metadata": {},
   "outputs": [
    {
     "name": "stdout",
     "output_type": "stream",
     "text": [
      "2\n",
      "4\n",
      "8\n",
      "10\n",
      "14\n",
      "16\n",
      "20\n"
     ]
    }
   ],
   "source": [
    "num = 1\n",
    "while num <= 20:\n",
    "    if num % 2 == 0:\n",
    "        if num % 6 == 0:\n",
    "            num +=1\n",
    "            continue\n",
    "        print(num)\n",
    "    num +=1"
   ]
  },
  {
   "cell_type": "markdown",
   "metadata": {},
   "source": [
    "7. Write a program to reverse a number entered by the user using a while loop. \n",
    "- Hint: Use num % 10 to get the last digit and build the reversed number by multiplying the \n",
    "current reversed number by 10 and adding the digit. Divide the number by 10 in each \n",
    "iteration."
   ]
  },
  {
   "cell_type": "code",
   "execution_count": 22,
   "metadata": {},
   "outputs": [
    {
     "name": "stdout",
     "output_type": "stream",
     "text": [
      "Reversed number: 0\n",
      "Reversed number: 0\n",
      "Reversed number: 1\n"
     ]
    }
   ],
   "source": [
    "num = int(input(\"Enter a number: \"))\n",
    "reversed_num = 0\n",
    "while num > 0:\n",
    "    reversed_num = reversed_num * 10 + num% 10\n",
    "    num //= 10\n",
    "    print(f'Reversed number: {reversed_num}')\n"
   ]
  },
  {
   "cell_type": "markdown",
   "metadata": {},
   "source": [
    "8. Write a program to display the first 10 Fibonacci numbers using a while loop. \n",
    "- Hint: Start with two variables initialized to 0 and 1 (first two Fibonacci numbers). Print them \n",
    "and compute the next number by adding the previous two. Use a counter to stop after 10 \n",
    "iterations."
   ]
  },
  {
   "cell_type": "code",
   "execution_count": 23,
   "metadata": {},
   "outputs": [
    {
     "name": "stdout",
     "output_type": "stream",
     "text": [
      "0\n",
      "1\n",
      "1\n",
      "2\n",
      "3\n",
      "5\n",
      "8\n",
      "13\n",
      "21\n",
      "34\n"
     ]
    }
   ],
   "source": [
    "a, b = 0, 1 \n",
    "count = 0\n",
    "while count < 10:\n",
    "    print (a)\n",
    "    a,b = b, a+b\n",
    "    count += 1"
   ]
  },
  {
   "cell_type": "markdown",
   "metadata": {},
   "source": [
    "9. Implement a program that continuously prompts the user to input a number. If the input is \n",
    "negative, skip it; if it's zero, stop the program. \n",
    "- Hint: Use input() to get numbers in a loop. Use if conditions to check for negative numbers \n",
    "(use continue) or zero (break to exit the loop). For positive numbers, print them. "
   ]
  },
  {
   "cell_type": "code",
   "execution_count": 2,
   "metadata": {},
   "outputs": [
    {
     "name": "stdout",
     "output_type": "stream",
     "text": [
      "Positive number is 10\n",
      "Positive number is 25\n"
     ]
    }
   ],
   "source": [
    "while True:\n",
    "    num = int(input(\"Enter a number: \"))\n",
    "    if num < 0:\n",
    "        continue\n",
    "    if num == 0:\n",
    "        break\n",
    "    print(f\"Positive number is {num}\")"
   ]
  },
  {
   "cell_type": "markdown",
   "metadata": {},
   "source": [
    "### 2. Functions"
   ]
  },
  {
   "cell_type": "markdown",
   "metadata": {},
   "source": [
    "10. Write a function greet() that prints \"Hello, World!\" and call it."
   ]
  },
  {
   "cell_type": "code",
   "execution_count": 3,
   "metadata": {},
   "outputs": [
    {
     "name": "stdout",
     "output_type": "stream",
     "text": [
      "Hello World\n"
     ]
    }
   ],
   "source": [
    "def greet():\n",
    "    print(\"Hello World\")\n",
    "greet()"
   ]
  },
  {
   "cell_type": "markdown",
   "metadata": {},
   "source": [
    "11. Write a function introduce(name, age) that prints a greeting message including the person's name \n",
    "and age. Call the function with various names and ages."
   ]
  },
  {
   "cell_type": "code",
   "execution_count": 6,
   "metadata": {},
   "outputs": [
    {
     "name": "stdout",
     "output_type": "stream",
     "text": [
      "Hi My name is Prakash KC and i am 34 years old\n",
      "Hi My name is Santosh KC and i am 30 years old\n"
     ]
    }
   ],
   "source": [
    "def introduce (name, age):\n",
    "    print(f\"Hi My name is {name} and i am {age} years old\")\n",
    "introduce(\"Prakash KC\", 34)\n",
    "introduce(\"Santosh KC\", 30)"
   ]
  },
  {
   "cell_type": "markdown",
   "metadata": {},
   "source": [
    "12. Create a function multiply(a, b) that multiplies two numbers and prints the result. Call it with two \n",
    "integers and two floats."
   ]
  },
  {
   "cell_type": "code",
   "execution_count": 5,
   "metadata": {},
   "outputs": [
    {
     "name": "stdout",
     "output_type": "stream",
     "text": [
      "The result of multiplying 5 and 10 is 50\n",
      "The result of multiplying 1.5 and 2.5 is 3.75\n"
     ]
    }
   ],
   "source": [
    "def multiply (a,b):\n",
    "    print(f\"The result of multiplying {a} and {b} is {a*b}\")\n",
    "multiply(5,10)\n",
    "multiply(1.5, 2.5)"
   ]
  },
  {
   "cell_type": "markdown",
   "metadata": {},
   "source": [
    "13. Write a function describe_country(country=\"India\") that prints \"I live in [country]\". Call the \n",
    "function with and without providing a country name."
   ]
  },
  {
   "cell_type": "code",
   "execution_count": 7,
   "metadata": {},
   "outputs": [
    {
     "name": "stdout",
     "output_type": "stream",
     "text": [
      "I Live is Nepal\n",
      "I Live is USA\n"
     ]
    }
   ],
   "source": [
    "def describe_country(country = \"Nepal\"):\n",
    "    print(f\"I Live is {country}\")\n",
    "describe_country()\n",
    "describe_country(\"USA\")"
   ]
  },
  {
   "cell_type": "markdown",
   "metadata": {},
   "source": [
    "14. Create a function calculate_tip(bill, tip_percentage=10) that prints the tip amount based on the bill \n",
    "and the tip percentage. Call it with and without the tip percentage."
   ]
  },
  {
   "cell_type": "code",
   "execution_count": 10,
   "metadata": {},
   "outputs": [
    {
     "name": "stdout",
     "output_type": "stream",
     "text": [
      "The tip amount is $10.0\n",
      "The tip amount is $20.0\n"
     ]
    }
   ],
   "source": [
    "def calculate_tip(bill, tip_percentage=10):\n",
    "    tip = (bill *tip_percentage) / 100\n",
    "    print(f\"The tip amount is ${tip}\")\n",
    "calculate_tip(100)\n",
    "calculate_tip(100, 20)"
   ]
  },
  {
   "cell_type": "markdown",
   "metadata": {},
   "source": [
    "15. Write a function print_items(*items) that prints each item on a new line. Call it with various \n",
    "numbers of arguments."
   ]
  },
  {
   "cell_type": "code",
   "execution_count": 11,
   "metadata": {},
   "outputs": [
    {
     "name": "stdout",
     "output_type": "stream",
     "text": [
      "Apple\n",
      "Banana\n",
      "Orange\n"
     ]
    }
   ],
   "source": [
    "def print_items(*items):\n",
    "    for item in items:\n",
    "        print(item)\n",
    "print_items(\"Apple\", \"Banana\", \"Orange\")"
   ]
  },
  {
   "cell_type": "markdown",
   "metadata": {},
   "source": [
    "16. Create a function sum_numbers(*numbers) that calculates and prints the sum of all numbers \n",
    "passed as arguments. Call it with 3, 5, and 8 numbers."
   ]
  },
  {
   "cell_type": "code",
   "execution_count": 12,
   "metadata": {},
   "outputs": [
    {
     "name": "stdout",
     "output_type": "stream",
     "text": [
      "The sum is: 15\n",
      "The sum is: 150\n"
     ]
    }
   ],
   "source": [
    "def sum_number(*numbers):\n",
    "    print(f\"The sum is: {sum(numbers)}\")\n",
    "    \n",
    "sum_number(1,2,3,4,5)\n",
    "sum_number(10,20,30,40,50)"
   ]
  },
  {
   "cell_type": "markdown",
   "metadata": {},
   "source": [
    "Real-Life Scenario: Restaurant Order System \n",
    "Problem Statement: \n",
    "You are tasked with creating a simple menu-driven system for a restaurant that allows customers to \n",
    "order food. The system should display a menu of available food items, let the customer choose items, \n",
    "and calculate the total price of their order. The system should continue prompting for orders until the \n",
    "customer decides to exit. \n",
    "Menu: \n",
    "1. Pizza - $10 \n",
    "2. Burger - $5 \n",
    "3. Pasta - $7 \n",
    "4. Fries - $3 \n",
    "5. Exit - Exit the ordering system \n",
    " \n",
    "Program Flow: \n",
    "1. Display the menu and ask the customer to choose an item. \n",
    "2. Based on the customer's choice, call a function to add the selected item to their order and \n",
    "update the total price. \n",
    "3. If the customer chooses \"Exit\", exit the program and display the total price. \n",
    "4. The program should continue to display the menu until the customer selects \"Exit.\" \n",
    "5. If the customer enters an invalid choice, print an error message and prompt for a valid choice. \n",
    " \n",
    "Requirements: \n",
    "1. Use a while loop to repeatedly show the menu until the user selects \"Exit.\" \n",
    "2. Use break to exit the loop when the customer chooses \"Exit.\" \n",
    "3. Implement each menu option as a separate function. \n",
    "4. Keep track of the total price and show it when the customer exits.\n",
    "\n",
    "## Hints for Implementation: \n",
    "1. Add Item Function: Create a function add_item() that prompts the user to select an item and \n",
    "updates the total price. \n",
    "2. Display Menu Function: Create a function display_menu() to print the available food items and \n",
    "prices. \n",
    "3. Input Validation: Ensure that the customer’s selection is a valid menu choice (1-5). If an invalid \n",
    "option is selected, ask the customer to try again. \n",
    "4. Exit Function: When the customer chooses \"Exit\", display the total cost of the meal and exit the \n",
    "loop using break. \n",
    "Output seems like this:\n"
   ]
  },
  {
   "cell_type": "code",
   "execution_count": 15,
   "metadata": {},
   "outputs": [
    {
     "name": "stdout",
     "output_type": "stream",
     "text": [
      "Menu:\n",
      "1. Pizza - $10\n",
      "2. Burger - $5\n",
      "3. pasta - $7\n",
      "4. fries - $3\n",
      "5. exit - exit the ordering system\n",
      "Menu:\n",
      "1. Pizza - $10\n",
      "2. Burger - $5\n",
      "3. pasta - $7\n",
      "4. fries - $3\n",
      "5. exit - exit the ordering system\n",
      "Menu:\n",
      "1. Pizza - $10\n",
      "2. Burger - $5\n",
      "3. pasta - $7\n",
      "4. fries - $3\n",
      "5. exit - exit the ordering system\n",
      "Menu:\n",
      "1. Pizza - $10\n",
      "2. Burger - $5\n",
      "3. pasta - $7\n",
      "4. fries - $3\n",
      "5. exit - exit the ordering system\n",
      "Total price : $22\n"
     ]
    }
   ],
   "source": [
    "def display_menu():\n",
    "    print(\"Menu:\")\n",
    "    print(\"1. Pizza - $10\")\n",
    "    print(\"2. Burger - $5\")\n",
    "    print(\"3. pasta - $7\")\n",
    "    print(\"4. fries - $3\")\n",
    "    print(\"5. exit - exit the ordering system\")\n",
    "    \n",
    "def add_item(choice, total_price):\n",
    "    prices = {1: 10, 2 : 5, 3: 7, 4: 3}\n",
    "    total_price += prices.get(choice, 0)\n",
    "    return total_price\n",
    "\n",
    "def menu():\n",
    "    total_price = 0\n",
    "    while True:\n",
    "        display_menu()\n",
    "        choice = int(input(\"Enter your choice: \"))\n",
    "        if choice == 5:\n",
    "            print(f\"Total price : ${total_price}\")\n",
    "            break\n",
    "        elif choice in(1,2,3,4):\n",
    "            total_price = add_item(choice, total_price)\n",
    "        else:\n",
    "            print(\"Invalid choice. Please try again\")\n",
    "menu()\n",
    "        \n",
    "    "
   ]
  }
 ],
 "metadata": {
  "kernelspec": {
   "display_name": "Python 3",
   "language": "python",
   "name": "python3"
  },
  "language_info": {
   "codemirror_mode": {
    "name": "ipython",
    "version": 3
   },
   "file_extension": ".py",
   "mimetype": "text/x-python",
   "name": "python",
   "nbconvert_exporter": "python",
   "pygments_lexer": "ipython3",
   "version": "3.13.1"
  }
 },
 "nbformat": 4,
 "nbformat_minor": 2
}
