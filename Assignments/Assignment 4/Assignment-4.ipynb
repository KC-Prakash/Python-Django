{
 "cells": [
  {
   "cell_type": "markdown",
   "metadata": {},
   "source": [
    "## 1. Math Module Assignments \n",
    "# Assignment 1: Calculator with Math Functions \n",
    "Write a program to create a calculator that uses the math module for advanced mathematical \n",
    "operations. Include the following features: \n",
    "1. Calculate the square root of a number. \n"
   ]
  },
  {
   "cell_type": "code",
   "execution_count": 1,
   "metadata": {},
   "outputs": [
    {
     "name": "stdout",
     "output_type": "stream",
     "text": [
      "The square root of 25.0 is 5.00\n"
     ]
    }
   ],
   "source": [
    "import math\n",
    "\n",
    "num =float(input(\"Enter a number to find its square root: \"))\n",
    "\n",
    "if num >= 0:\n",
    "    square_root = math.sqrt(num)\n",
    "    print(f'The square root of {num} is {square_root:.2f}')\n",
    "else:\n",
    "    print(\"square root of a negative number is not possible.\")\n"
   ]
  },
  {
   "cell_type": "markdown",
   "metadata": {},
   "source": [
    "2. Find the greatest common divisor (GCD) of two numbers. \n"
   ]
  },
  {
   "cell_type": "code",
   "execution_count": 3,
   "metadata": {},
   "outputs": [
    {
     "name": "stdout",
     "output_type": "stream",
     "text": [
      "the greatest common divisor of 126 and 8 is 2\n"
     ]
    }
   ],
   "source": [
    "import math\n",
    "\n",
    "num1 = int(input('Enter a first number: '))\n",
    "num2 = int(input('ENter a second number: '))\n",
    "\n",
    "gcd = math.gcd(num1, num2)\n",
    "print(f'the greatest common divisor of {num1} and {num2} is {gcd}')\n",
    "\n"
   ]
  },
  {
   "cell_type": "markdown",
   "metadata": {},
   "source": [
    "3. Calculate the sine, cosine, and tangent of an angle in degrees. "
   ]
  },
  {
   "cell_type": "code",
   "execution_count": 4,
   "metadata": {},
   "outputs": [
    {
     "name": "stdout",
     "output_type": "stream",
     "text": [
      "Sine of 56.0 is 0.83\n",
      "Cosine of 56.0 is 0.56\n",
      "Tangent of 56.0 is 1.48\n"
     ]
    }
   ],
   "source": [
    "import math\n",
    "\n",
    "angle = float(input(\"Enter the angle in degrees:\"))\n",
    "\n",
    "radians = math.radians(angle)\n",
    "\n",
    "sine = math.sin(radians)\n",
    "cosine = math.cos(radians)\n",
    "tangent = math.tan(radians)\n",
    "\n",
    "print(f'Sine of {angle} is {sine:.2f}')\n",
    "print(f'Cosine of {angle} is {cosine:.2f}')\n",
    "print(f'Tangent of {angle} is {tangent:.2f}')"
   ]
  },
  {
   "cell_type": "markdown",
   "metadata": {},
   "source": [
    "4. Convert an angle from degrees to radians and vice versa."
   ]
  },
  {
   "cell_type": "code",
   "execution_count": 5,
   "metadata": {},
   "outputs": [
    {
     "name": "stdout",
     "output_type": "stream",
     "text": [
      "45.0 degrees is 0.79 radians\n",
      "10.0 radians is 572.96 degrees\n"
     ]
    }
   ],
   "source": [
    "import math\n",
    "angle_degrees = float(input(\"Enter an angle in degrees: \"))\n",
    "angle_radians = float(input(\"Enter a angle in radians:\"))\n",
    "\n",
    "degrees_to_radians = math.radians(angle_degrees)\n",
    "radians_to_degrees = math.degrees(angle_radians)\n",
    "\n",
    "print(f'{angle_degrees} degrees is {degrees_to_radians:.2f} radians')\n",
    "print(f'{angle_radians} radians is {radians_to_degrees:.2f} degrees')"
   ]
  },
  {
   "cell_type": "markdown",
   "metadata": {},
   "source": [
    "# Assignment 2: Volume and Surface Area Calculator \n",
    "Write a program to calculate the following using the math module: \n",
    "1. The volume and surface area of a sphere (given the radius). \n",
    "2. The volume and surface area of a cylinder (given the radius and height). \n",
    "3. The volume and surface area of a cone (given the radius and height). \n",
    "Hints: \n",
    "- Use constants like math.pi. \n",
    "- Use formulas for volume and surface area."
   ]
  },
  {
   "cell_type": "code",
   "execution_count": 3,
   "metadata": {},
   "outputs": [
    {
     "name": "stdout",
     "output_type": "stream",
     "text": [
      "Sphere - Volume: 523.60, Surface Area: 314.16\n",
      "Cylinder - Volume: 628.32, Surface Area: 408.41\n",
      "Cone - Volume: 424.12, Surface Area: 545.57\n"
     ]
    }
   ],
   "source": [
    "import math\n",
    "\n",
    "# Function to calculate the volume and surface area of a sphere\n",
    "def sphere(radius):\n",
    "    volume = (4/3) * math.pi * radius**3\n",
    "    surface_area = 4*math.pi*radius**2\n",
    "    return volume, surface_area\n",
    "\n",
    "# Function to calculate the volume and surface area of a cylinder\n",
    "def cylinder(radius, height):\n",
    "    volume = math.pi * radius**2 * height\n",
    "    surface_area = 2*math.pi*radius*(radius+height)\n",
    "    return volume, surface_area\n",
    "\n",
    "# Function to calculate the volume and surface area of a cone\n",
    "def cone(radius, height):\n",
    "    volume = (1/3) * math.pi * radius**2 * height\n",
    "    surface_area = math.pi*radius*(radius+math.sqrt(radius**2+height**2))\n",
    "    return volume, surface_area\n",
    "\n",
    "# Input values for the sphere\n",
    "radius_sphere = float(input(\"Enter the radius of the sphere: \"))\n",
    "volume_sphere, surface_area_sphere = sphere(radius_sphere)\n",
    "print(f\"Sphere - Volume: {volume_sphere:.2f}, Surface Area: {surface_area_sphere:.2f}\")\n",
    "\n",
    "# Input values for the cylinder\n",
    "radius_cylinder = float(input(\"\\nEnter the radius of the cylinder: \"))\n",
    "height_cylinder = float(input(\"Enter the height of the cylinder: \"))\n",
    "volume_cylinder, surface_area_cylinder = cylinder(radius_cylinder, height_cylinder)\n",
    "print(f\"Cylinder - Volume: {volume_cylinder:.2f}, Surface Area: {surface_area_cylinder:.2f}\")\n",
    "\n",
    "# Input values for the cone\n",
    "radius_cone = float(input(\"\\nEnter the radius of the cone: \"))\n",
    "height_cone = float(input(\"Enter the height of the cone: \"))\n",
    "volume_cone, surface_area_cone = cone(radius_cone, height_cone)\n",
    "print(f\"Cone - Volume: {volume_cone:.2f}, Surface Area: {surface_area_cone:.2f}\")"
   ]
  },
  {
   "cell_type": "markdown",
   "metadata": {},
   "source": [
    "## 2. DateTime and Time Module Assignments \n",
    "# Assignment 1: Age Calculator \n",
    "Write a program to calculate a person's exact age (in years, months, and days) based on their date of \n",
    "birth. \n",
    "- Input: User's date of birth in the format YYYY-MM-DD. \n",
    "- Output: Their age as of today's date."
   ]
  },
  {
   "cell_type": "code",
   "execution_count": 8,
   "metadata": {},
   "outputs": [
    {
     "name": "stdout",
     "output_type": "stream",
     "text": [
      "Your age is 4 years, 3 months, and 18 days.\n"
     ]
    }
   ],
   "source": [
    "from datetime import datetime\n",
    "\n",
    "# Function to calculate age\n",
    "def calculate_age(dob):\n",
    "    today = datetime.today()  # Get today's date\n",
    "    dob_date = datetime.strptime(dob, \"%Y-%m-%d\")  # Convert input string to datetime object\n",
    "\n",
    "    # Calculate age in years, months, and days\n",
    "    years = today.year - dob_date.year\n",
    "    months = today.month - dob_date.month\n",
    "    days = today.day - dob_date.day\n",
    "\n",
    "    # Adjust for negative values\n",
    "    if days < 0:\n",
    "        months -= 1\n",
    "        days += 30  # Assuming 30 days for simplicity\n",
    "\n",
    "    if months < 0:\n",
    "        years -= 1\n",
    "        months += 12\n",
    "\n",
    "    return years, months, days\n",
    "\n",
    "# User input for date of birth\n",
    "dob_input = input(\"Enter your date of birth (YYYY-MM-DD): \")\n",
    "\n",
    "# Calculate age\n",
    "years, months, days = calculate_age(dob_input)\n",
    "\n",
    "# Output result\n",
    "print(f\"Your age is {years} years, {months} months, and {days} days.\")\n"
   ]
  },
  {
   "cell_type": "markdown",
   "metadata": {},
   "source": [
    "# Assignment 2: Countdown Timer \n",
    "Write a program that functions as a countdown timer. \n",
    "- Input: Time in seconds. \n",
    "- Output: The timer counts down from the given time to 0, updating every second, and prints \n",
    "\"Time's up!\" when it finishes."
   ]
  },
  {
   "cell_type": "code",
   "execution_count": 1,
   "metadata": {},
   "outputs": [
    {
     "name": "stdout",
     "output_type": "stream",
     "text": [
      "Time's up! completed!\n"
     ]
    }
   ],
   "source": [
    "import time\n",
    "\n",
    "def countdown_timer(seconds):\n",
    "    while seconds > 0:\n",
    "        \n",
    "        mins, secs = divmod(seconds, 60)\n",
    "        \n",
    "        timer = f'{mins:02d}:{secs:02d}'\n",
    "        print(timer, end='\\r')\n",
    "        time.sleep(1)\n",
    "        seconds -= 1\n",
    "    print(\"Time's up! completed!\")\n",
    "\n",
    "try:\n",
    "    time_in_seconds = int(input(\"Enter the time in seconds: \"))\n",
    "    countdown_timer(time_in_seconds)\n",
    "except ValueError:\n",
    "    print(\"Invalid input. Please enter a valid number of seconds.\")\n"
   ]
  },
  {
   "cell_type": "markdown",
   "metadata": {},
   "source": [
    "# Assignment 3: Days Between Dates \n",
    "Write a program to calculate the number of days between two given dates. \n",
    "- Input: Two dates in YYYY-MM-DD format. \n",
    "- Output: The total number of days between the two dates."
   ]
  },
  {
   "cell_type": "code",
   "execution_count": 2,
   "metadata": {},
   "outputs": [
    {
     "name": "stdout",
     "output_type": "stream",
     "text": [
      "The total number of days between 2019-01-01 and 2025-01-01 is 2192 days.\n"
     ]
    }
   ],
   "source": [
    "from datetime import datetime \n",
    "\n",
    "def days_between_dates(date1, date2):\n",
    "    date1_obj = datetime.strptime(date1, \"%Y-%m-%d\")\n",
    "    date2_obj = datetime.strptime(date2, \"%Y-%m-%d\")\n",
    "    \n",
    "    difference =abs(date2_obj - date1_obj)\n",
    "    return difference.days\n",
    "\n",
    "try:\n",
    "    date1_input = input(\"Enter the first date (YYYY-MM-DD): \")\n",
    "    date2_input = input(\"Enter the second date (YYYY-MM-DD): \")\n",
    "    \n",
    "    total_days = days_between_dates(date1_input, date2_input)\n",
    "    print(f\"The total number of days between {date1_input} and {date2_input} is {total_days} days.\")\n",
    "except ValueError:\n",
    "    print(\"Please enter valid dates in the format YYYY-MM-DD.\")"
   ]
  },
  {
   "cell_type": "markdown",
   "metadata": {},
   "source": [
    "# 3. Random Module Assignments \n",
    "# Assignment 1: Number Guessing Game \n",
    "Create a number guessing game where: \n",
    "- The program generates a random number between 1 and 100. \n",
    "- The user has to guess the number, and the program provides feedback:  \n",
    "    - \"Too high!\" if the guess is greater than the number. \n",
    "    - \"Too low!\" if the guess is less than the number. \n",
    "- The program counts the number of attempts the user took to guess correctly."
   ]
  },
  {
   "cell_type": "code",
   "execution_count": 4,
   "metadata": {},
   "outputs": [
    {
     "name": "stdout",
     "output_type": "stream",
     "text": [
      "Welcome to the number guessing game!\n",
      "I'm thinking of a number between 1 and 100.\n",
      "Too low! Try again.\n",
      "Too low! Try again.\n",
      "Too low! Try again.\n",
      "Too high! Try again.\n",
      "Too low! Try again.\n",
      "Too low! Try again.\n",
      "Too high! Try again.\n",
      "Too high! Try again.\n",
      "Too high! Try again.\n",
      "Too low! Try again.\n",
      "Too low! Try again.\n",
      "Too high! Try again.\n",
      "Too high! Try again.\n",
      "Too high! Try again.\n",
      "Invalid input. Please enter a valid number.\n",
      "Invalid input. Please enter a valid number.\n",
      "Invalid input. Please enter a valid number.\n",
      "Invalid input. Please enter a valid number.\n",
      "Too high! Try again.\n",
      "Too low! Try again.\n",
      "Too low! Try again.\n",
      "Too low! Try again.\n",
      "Too low! Try again.\n",
      "Too low! Try again.\n",
      "Invalid input. Please enter a valid number.\n",
      "Too low! Try again.\n",
      "Too low! Try again.\n",
      "Too low! Try again.\n",
      "Too low! Try again.\n",
      "Too high! Try again.\n",
      "Too high! Try again.\n",
      "Too high! Try again.\n",
      "Too high! Try again.\n",
      "Too high! Try again.\n",
      "Too high! Try again.\n",
      "Too high! Try again.\n",
      "Congratulations! You guessed the number 52 in 32 attempts.\n"
     ]
    }
   ],
   "source": [
    "import random\n",
    "\n",
    "def number_guessing_game():\n",
    "    \n",
    "    target_number = random.randint(1, 100)\n",
    "    attempts = 0\n",
    "\n",
    "    print(\"Welcome to the number guessing game!\")\n",
    "    print(\"I'm thinking of a number between 1 and 100.\")\n",
    "\n",
    "    while True:\n",
    "        try:\n",
    "            user_guess = int(input(\"Enter your guess: \"))\n",
    "            attempts += 1\n",
    "            \n",
    "            if user_guess < target_number:\n",
    "                print(\"Too low! Try again.\")\n",
    "            elif user_guess > target_number:\n",
    "                print(\"Too high! Try again.\")\n",
    "            else:\n",
    "                print(f\"Congratulations! You guessed the number {target_number} in {attempts} attempts.\")\n",
    "                break\n",
    "        except ValueError:\n",
    "            print(\"Invalid input. Please enter a valid number.\")\n",
    "\n",
    "number_guessing_game()"
   ]
  },
  {
   "cell_type": "markdown",
   "metadata": {},
   "source": [
    "# Assignment 2: Dice Rolling Simulator \n",
    "Write a program to simulate the rolling of two six-sided dice. \n",
    "• Output: The result of each roll and the total of both dice. \n",
    "• Ask the user if they want to roll again. If yes, repeat; otherwise, exit."
   ]
  },
  {
   "cell_type": "code",
   "execution_count": 7,
   "metadata": {},
   "outputs": [
    {
     "name": "stdout",
     "output_type": "stream",
     "text": [
      "Welcome to the dice rolling simulator!\n",
      "You rolled 6 and 1\n",
      "Total: 7\n",
      "Thanks for playing!\n"
     ]
    }
   ],
   "source": [
    "import random\n",
    "\n",
    "def roll_dice():\n",
    "    die1 = random.randint(1, 6)\n",
    "    die2 = random.randint(1, 6)\n",
    "    total = die1 + die2\n",
    "    return  die1, die2, total\n",
    "\n",
    "def dice_rolling_simulator():\n",
    "    print(\"Welcome to the dice rolling simulator!\")\n",
    "    while True:\n",
    "        \n",
    "        die1, die2, total = roll_dice()\n",
    "        print(f\"You rolled {die1} and {die2}\")\n",
    "        print(f\"Total: {total}\")\n",
    "        \n",
    "        roll_again = input(\"Do you want to roll again? (yes/no): \").strip().lower()\n",
    "        if roll_again not in(\"yes\", \"y\"):\n",
    "            print(\"Thanks for playing!\")\n",
    "            break\n",
    "\n",
    "dice_rolling_simulator()"
   ]
  },
  {
   "cell_type": "markdown",
   "metadata": {},
   "source": [
    "# Assignment 3: Random Password Generator \n",
    "Write a program to generate a random password of a given length. The password should include: \n",
    "- Uppercase letters \n",
    "- Lowercase letters \n",
    "- Numbers \n",
    "- Special characters (e.g., !@#$%^&*) \n",
    "Hint: Use random.choices() or random.sample() with a combination of strings from string module (e.g., \n",
    "string.ascii_letters, string.digits, etc.)."
   ]
  },
  {
   "cell_type": "code",
   "execution_count": 17,
   "metadata": {},
   "outputs": [
    {
     "name": "stdout",
     "output_type": "stream",
     "text": [
      "Generated Password: qJng2P<iK4&Iy<Lv$6`gj+*)Q\n"
     ]
    }
   ],
   "source": [
    "import random\n",
    "import string\n",
    "\n",
    "def generate_password(length):\n",
    "    if length < 4:\n",
    "        raise ValueError(\"Password length must be at least 4 to include all characters types.\")\n",
    "    \n",
    "    uppercase = random.choice(string.ascii_uppercase)\n",
    "    lowercase = random.choice(string.ascii_lowercase)\n",
    "    digits = random.choice(string.digits)\n",
    "    special = random.choice(string.punctuation)\n",
    "    \n",
    "    remaining_length = length - 4\n",
    "    all_characters = string.ascii_letters + string.digits + string.punctuation\n",
    "    other_characters = random.choices(all_characters, k=remaining_length)\n",
    "    \n",
    "    password_list = [uppercase, lowercase, digits, special] + other_characters\n",
    "    random.shuffle(password_list)\n",
    "    \n",
    "    return ''.join(password_list)\n",
    "\n",
    "try:\n",
    "    password_length = int(input(\"Enter the length of the password: \"))\n",
    "    generated_password = generate_password(password_length)\n",
    "    print(f\"Generated Password: {generated_password}\")\n",
    "except ValueError:\n",
    "    print(\"Invalid input. Please enter a valid number for password length.\")"
   ]
  },
  {
   "cell_type": "markdown",
   "metadata": {},
   "source": [
    "# Integrated Challenge: A Mini Project \n",
    "# Mini Project: Personal Daily Planner \n",
    "Combine the math, datetime, and random modules to build a daily planner program. The planner \n",
    "should: \n",
    "1. Schedule Tasks: Allow the user to input tasks for the day. \n",
    "2. Suggest Break Times: Automatically calculate break times based on the user's schedule using \n",
    "basic math. \n",
    "3. Generate a Motivational Quote: Use the random module to display a random motivational \n",
    "quote from a predefined list. \n",
    "4. Count Down to Task Deadlines: Use the datetime module to count down to the next task."
   ]
  },
  {
   "cell_type": "code",
   "execution_count": null,
   "metadata": {},
   "outputs": [],
   "source": []
  }
 ],
 "metadata": {
  "kernelspec": {
   "display_name": "Python 3",
   "language": "python",
   "name": "python3"
  },
  "language_info": {
   "codemirror_mode": {
    "name": "ipython",
    "version": 3
   },
   "file_extension": ".py",
   "mimetype": "text/x-python",
   "name": "python",
   "nbconvert_exporter": "python",
   "pygments_lexer": "ipython3",
   "version": "3.13.1"
  }
 },
 "nbformat": 4,
 "nbformat_minor": 2
}
