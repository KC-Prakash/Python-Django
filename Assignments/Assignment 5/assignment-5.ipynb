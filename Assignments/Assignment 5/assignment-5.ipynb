{
 "cells": [
  {
   "cell_type": "markdown",
   "metadata": {},
   "source": [
    "# Assignment Questions \n",
    " \n",
    "# 1. List Assignments \n",
    "1. Write a Python program to input 5 numbers from the user and store them in a list. Then:  \n",
    "- Print the list. \n",
    "- Calculate and display the sum and average of the numbers. "
   ]
  },
  {
   "cell_type": "code",
   "execution_count": 2,
   "metadata": {},
   "outputs": [
    {
     "name": "stdout",
     "output_type": "stream",
     "text": [
      "The list of numbers is:  [1, 3, 4, 5, 6]\n",
      "The average of the numbers is:  19\n",
      "The average of the numbers is:  3.8\n"
     ]
    }
   ],
   "source": [
    "numbers = []\n",
    "for i in range(5):\n",
    "    num = int(input(\"Enter a number: \"))\n",
    "    numbers.append(num)\n",
    "\n",
    "print(\"The list of numbers is: \", numbers)\n",
    "\n",
    "total = sum(numbers)\n",
    "average = total/len(numbers)\n",
    "\n",
    "print(\"The average of the numbers is: \", total)\n",
    "print(\"The average of the numbers is: \", average)"
   ]
  },
  {
   "cell_type": "markdown",
   "metadata": {},
   "source": [
    "2. Write a Python program to create a list of fruits. Perform the following operations:  \n",
    "- Add a new fruit to the list. \n",
    "- Remove a specific fruit (entered by the user). \n",
    "- Sort the list in alphabetical order. "
   ]
  },
  {
   "cell_type": "code",
   "execution_count": 3,
   "metadata": {},
   "outputs": [
    {
     "name": "stdout",
     "output_type": "stream",
     "text": [
      "The new list of fruits is:  ['apple', 'banana', 'orange', 'grape', 'kiwi', 'Banaba']\n",
      "apple removed. update list: ['banana', 'orange', 'grape', 'kiwi', 'Banaba']\n",
      "The sorted list of fruits is:  ['Banaba', 'banana', 'grape', 'kiwi', 'orange']\n"
     ]
    }
   ],
   "source": [
    "fruits = ['apple', 'banana', 'orange', 'grape', 'kiwi']\n",
    "\n",
    "new_fruits = input(\"Enter a fruit: \")\n",
    "fruits.append(new_fruits)\n",
    "print(\"The new list of fruits is: \", fruits)\n",
    "\n",
    "fruit_to_remove = input(\"Enter a fruit to remove: \")\n",
    "if fruit_to_remove in fruits:\n",
    "    fruits.remove(fruit_to_remove)\n",
    "    print(f'{fruit_to_remove} removed. update list: {fruits}')\n",
    "else:\n",
    "    print(f'{fruit_to_remove} is not in the list')\n",
    "\n",
    "fruits.sort()\n",
    "print(\"The sorted list of fruits is: \", fruits)"
   ]
  },
  {
   "cell_type": "markdown",
   "metadata": {},
   "source": [
    "3. Write a Python program to create a list of 10 numbers. Then:  \n",
    "- Display the even and odd numbers separately. \n",
    "- Replace all negative numbers in the list with their absolute values. \n"
   ]
  },
  {
   "cell_type": "code",
   "execution_count": 8,
   "metadata": {},
   "outputs": [
    {
     "name": "stdout",
     "output_type": "stream",
     "text": [
      "The even numbers are:  [2, 4, 6, 8, 10]\n",
      "The odd numbers are:  [1, 3, 7, 9, 15]\n",
      "List after replacing negative numbers with their absolute values:  [1, 2, 3, 4, 6, 7, 8, 9, 10, 15]\n"
     ]
    }
   ],
   "source": [
    "numbers = [ ]\n",
    "\n",
    "for i in range (10):\n",
    "    num = int(input(\"Enter a number{i+1}: \"))\n",
    "    numbers.append(num)\n",
    "    \n",
    "even_number = [num for num in numbers if num % 2 == 0]\n",
    "odd_number = [num for num in numbers if num % 2 != 0]\n",
    "\n",
    "print(\"The even numbers are: \", even_number)\n",
    "print(\"The odd numbers are: \", odd_number)\n",
    "\n",
    "numbers = [abs(num) if num < 0 else num for num in numbers]\n",
    "print(\"List after replacing negative numbers with their absolute values: \", numbers)"
   ]
  },
  {
   "cell_type": "markdown",
   "metadata": {},
   "source": [
    "4. Create a program to accept a list of names from the user and print the longest name. "
   ]
  },
  {
   "cell_type": "code",
   "execution_count": 11,
   "metadata": {},
   "outputs": [
    {
     "name": "stdout",
     "output_type": "stream",
     "text": [
      "The longest name is:  Prakash\n"
     ]
    }
   ],
   "source": [
    "names = []\n",
    "\n",
    "n = int(input(\"Enter the number of names: \"))\n",
    "for i in range(n):\n",
    "    name = input(\"Enter a name: \")\n",
    "    names.append(name)\n",
    "    \n",
    "longest_name = max(names, key=len)\n",
    "print(\"The longest name is: \", longest_name)"
   ]
  },
  {
   "cell_type": "markdown",
   "metadata": {},
   "source": [
    "# 2. Tuple Assignments \n",
    "1. Create a tuple of 10 integers. Write a Python program to:  \n",
    "- Find the minimum and maximum values in the tuple. \n",
    "- Count how many times a specific number (entered by the user) occurs in the tuple. "
   ]
  },
  {
   "cell_type": "code",
   "execution_count": 13,
   "metadata": {},
   "outputs": [
    {
     "name": "stdout",
     "output_type": "stream",
     "text": [
      "Tuple:  (12, 15, 32, 42, 55, 75, 122, 132, 150, 180, 200)\n",
      "Minimum value:  12\n",
      "Maximum value:  200\n",
      "The number 15 occurs 1 times in the tuple\n"
     ]
    }
   ],
   "source": [
    "numbers = (12, 15, 32, 42, 55, 75, 122, 132, 150, 180, 200)\n",
    "\n",
    "minimum = min(numbers)\n",
    "maximum = max(numbers)\n",
    "\n",
    "print(\"Tuple: \", numbers)\n",
    "print(\"Minimum value: \", minimum)\n",
    "print(\"Maximum value: \", maximum)\n",
    "\n",
    "target = int(input(\"Enter a number to count its occurrences: \"))\n",
    "count = numbers.count(target)\n",
    "\n",
    "print(f\"The number {target} occurs {count} times in the tuple\")"
   ]
  },
  {
   "cell_type": "markdown",
   "metadata": {},
   "source": [
    "2. Write a Python program to create a tuple with mixed data types (e.g., integers, strings, floats). \n",
    "Extract and display:  \n",
    "- All integers in the tuple. \n",
    "- All strings in the tuple. "
   ]
  },
  {
   "cell_type": "code",
   "execution_count": 14,
   "metadata": {},
   "outputs": [
    {
     "name": "stdout",
     "output_type": "stream",
     "text": [
      "Mixed tuple:  (10, 'hello', 20.5, 30, 'world', 40, 'Python', 100, 'Java')\n",
      "Tuple of integers:  (10, 30, 40, 100)\n",
      "Tuple of strings:  ('hello', 'world', 'Python', 'Java')\n"
     ]
    }
   ],
   "source": [
    "mixed_tuple = (10, 'hello', 20.5, 30, 'world', 40, 'Python', 100, 'Java')\n",
    "\n",
    "integers = tuple (item for item in mixed_tuple if isinstance(item, int))\n",
    "\n",
    "string = tuple(item for item in mixed_tuple if isinstance(item, str))\n",
    "\n",
    "print(\"Mixed tuple: \", mixed_tuple)\n",
    "print(\"Tuple of integers: \", integers)\n",
    "print(\"Tuple of strings: \", string)\n"
   ]
  },
  {
   "cell_type": "markdown",
   "metadata": {},
   "source": [
    "3. Write a program to accept a list from the user and convert it into a tuple. Ensure the tuple \n",
    "remains immutable and try modifying it to demonstrate its immutability. "
   ]
  },
  {
   "cell_type": "code",
   "execution_count": 18,
   "metadata": {},
   "outputs": [
    {
     "name": "stdout",
     "output_type": "stream",
     "text": [
      "Converted tuple: ('1', '2', '3', '4', '4')\n",
      "Error: tuples are immutable. you cannot modify them!\n"
     ]
    }
   ],
   "source": [
    "user_list = []\n",
    "\n",
    "n = int(input(\"How many elements do you want to add to the list? \"))\n",
    "for i in range(n):\n",
    "    element = input(f\"enter element {i+1}: \")\n",
    "    user_list.append(element)\n",
    "    \n",
    "user_tuple = tuple(user_list)\n",
    "print(\"Converted tuple:\", user_tuple)\n",
    "\n",
    "\n",
    "try:\n",
    "    user_tuple[0] = 'new_value'\n",
    "except TypeError as e:\n",
    "    print('Error: tuples are immutable. you cannot modify them!')"
   ]
  },
  {
   "cell_type": "markdown",
   "metadata": {},
   "source": [
    "4. Create a tuple of 5 city names and display them in reverse order."
   ]
  },
  {
   "cell_type": "code",
   "execution_count": 19,
   "metadata": {},
   "outputs": [
    {
     "name": "stdout",
     "output_type": "stream",
     "text": [
      "Original tuple:  ('New York', 'Los Angeles', 'Chicago', 'Houston', 'Philadelphia')\n",
      "Reversed tuple:  ('Philadelphia', 'Houston', 'Chicago', 'Los Angeles', 'New York')\n"
     ]
    }
   ],
   "source": [
    "cities = ('New York', 'Los Angeles', 'Chicago', 'Houston', 'Philadelphia')\n",
    "\n",
    "reversed_cities = cities[::-1]\n",
    "\n",
    "print(\"Original tuple: \", cities)\n",
    "print(\"Reversed tuple: \", reversed_cities)"
   ]
  },
  {
   "cell_type": "markdown",
   "metadata": {},
   "source": [
    "# 3. Set Assignments \n",
    "1. Write a Python program to create two sets of integers and perform the following operations:  \n",
    "- Union \n",
    "- Intersection \n",
    "- Difference "
   ]
  },
  {
   "cell_type": "code",
   "execution_count": 1,
   "metadata": {},
   "outputs": [
    {
     "name": "stdout",
     "output_type": "stream",
     "text": [
      "Union: {1, 2, 3, 4, 5, 6, 7, 8, 9, 10, 11, 12}\n",
      "Intersection: {8, 5, 6, 7}\n",
      "Difference (set1 - set2) {1, 2, 3, 4}\n"
     ]
    }
   ],
   "source": [
    "set1 = {1, 2, 3, 4, 5, 6, 7, 8}\n",
    "set2 = {5, 6, 7, 8, 9, 10, 11, 12}\n",
    "\n",
    "union_result = set1 | set2\n",
    "print(\"Union:\", union_result)\n",
    "\n",
    "intersection_result = set1 & set2\n",
    "print(\"Intersection:\", intersection_result)\n",
    "\n",
    "difference_result = set1- set2\n",
    "print(\"Difference (set1 - set2)\", difference_result)"
   ]
  },
  {
   "cell_type": "markdown",
   "metadata": {},
   "source": [
    "2. Write a program to input 10 numbers from the user. Store them in a set to eliminate duplicates \n",
    "and display the unique numbers. \n"
   ]
  },
  {
   "cell_type": "code",
   "execution_count": 3,
   "metadata": {},
   "outputs": [
    {
     "name": "stdout",
     "output_type": "stream",
     "text": [
      "Unique numbers: {1, 2, 3}\n"
     ]
    }
   ],
   "source": [
    "numbers = set()\n",
    "for _ in range (10):\n",
    "    num = int(input(\"Enter a number\"))\n",
    "    numbers.add(num)\n",
    "\n",
    "print('Unique numbers:', numbers)"
   ]
  },
  {
   "cell_type": "markdown",
   "metadata": {},
   "source": [
    "3. Create a set of your favorite books and another set of your friend's favorite books. Find:  \n",
    "- The common books you both like. \n",
    "- Books that are unique to you. "
   ]
  },
  {
   "cell_type": "code",
   "execution_count": null,
   "metadata": {},
   "outputs": [],
   "source": [
    "my_books = {\"TO\"}"
   ]
  },
  {
   "cell_type": "markdown",
   "metadata": {},
   "source": [
    "4. Write a program to check if a given element exists in a set. "
   ]
  }
 ],
 "metadata": {
  "kernelspec": {
   "display_name": "Python 3",
   "language": "python",
   "name": "python3"
  },
  "language_info": {
   "codemirror_mode": {
    "name": "ipython",
    "version": 3
   },
   "file_extension": ".py",
   "mimetype": "text/x-python",
   "name": "python",
   "nbconvert_exporter": "python",
   "pygments_lexer": "ipython3",
   "version": "3.13.1"
  }
 },
 "nbformat": 4,
 "nbformat_minor": 2
}
