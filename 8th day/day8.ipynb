{
 "cells": [
  {
   "cell_type": "markdown",
   "metadata": {},
   "source": [
    "# Nested Collections"
   ]
  },
  {
   "cell_type": "markdown",
   "metadata": {},
   "source": [
    "## 1. Nested List"
   ]
  },
  {
   "cell_type": "code",
   "execution_count": 5,
   "metadata": {},
   "outputs": [
    {
     "name": "stdout",
     "output_type": "stream",
     "text": [
      "3\n"
     ]
    }
   ],
   "source": [
    "# a = [1,2,3]\n",
    "# b = [4,5,6]\n",
    "\n",
    "# c = [a,b]\n",
    "# c = [    # | column\n",
    "#     [1, 2, 3], #<- row\n",
    "#     [4, 5, 6]\n",
    "# ]\n",
    "# print(c[0])\n",
    "# first_item_of_c = c[0]\n",
    "# print(first_item_of_c[2])\n",
    "# print(c[0][2])"
   ]
  },
  {
   "cell_type": "markdown",
   "metadata": {},
   "source": [
    "## 2. Nested Dictionary"
   ]
  },
  {
   "cell_type": "code",
   "execution_count": 30,
   "metadata": {},
   "outputs": [],
   "source": [
    "# new_dict = {\n",
    "#     \"first\": {\n",
    "#         \"a\":1,\n",
    "#         \"b\":2\n",
    "#     }\n",
    "# }\n",
    "\n",
    "# print(new_dict['first']['a'])\n",
    "\n",
    "users = {\n",
    "    '001':{\n",
    "        'name':'Ram',\n",
    "        'age':20,\n",
    "        'address':{\n",
    "            'temporary':{\n",
    "                'tole':'shiva chowk',\n",
    "                'zip_code':123456,\n",
    "                'street_no':1,\n",
    "                'house_no':1\n",
    "            },\n",
    "            'permanent':'biratnagar'\n",
    "        }\n",
    "    },\n",
    "    '002':{\n",
    "        'name':'Hari',\n",
    "        'age':30,\n",
    "        'address':{\n",
    "            'temporary':{\n",
    "                'tole':'ram chowk',\n",
    "                'zip_code':123456,\n",
    "                'street_no':1,\n",
    "                'house_no':1\n",
    "            },\n",
    "            'permanent':'pokhara'\n",
    "        }\n",
    "    },\n",
    "    \n",
    "}\n",
    "\n",
    "\n",
    "# Accessing data from nested dictionary\n",
    "# user1 = users['001']\n",
    "# print(user1['name'])\n",
    "# print(user1['age'])\n",
    "# user1_address = user1['address']\n",
    "# print(user1_address['permanent'])\n",
    "# user1_address_temp = user1_address['temporary']\n",
    "# print(user1_address_temp['tole'])\n",
    "# print(user1_address_temp['street_no'])\n",
    "# print(user1_address_temp['house_no'])\n",
    "# print(user1_address_temp['zip_code'])\n",
    "\n",
    "# print(users['001']['address']['temporary']['zip_code'])\n",
    "\n",
    "# print(list(users.keys()))\n",
    "# for user_id, user_info in users.items():\n",
    "#     print(user_id)\n",
    "#     # print(user_info.keys())\n",
    "#     for info_type, info in user_info.items():\n",
    "#         print(info_type)\n",
    "\n",
    "#         if info_type == 'address':\n",
    "#             for address_type, address in info.items():\n",
    "#                 print(address_type)\n",
    "#                 print(address)"
   ]
  },
  {
   "cell_type": "markdown",
   "metadata": {},
   "source": [
    "# Comprehensions"
   ]
  },
  {
   "cell_type": "markdown",
   "metadata": {},
   "source": [
    "## 1. List Comprehension"
   ]
  },
  {
   "cell_type": "code",
   "execution_count": 33,
   "metadata": {},
   "outputs": [
    {
     "name": "stdout",
     "output_type": "stream",
     "text": [
      "[4]\n"
     ]
    }
   ],
   "source": [
    "a = [1,2,3]\n",
    "b = [item*2 for item in a if item % 2 == 0]\n",
    "\n",
    "# for item in a:\n",
    "#     temp = item*2\n",
    "#     b.append(temp)\n",
    "\n",
    "print(b)\n",
    "\n",
    "\n",
    "\n"
   ]
  },
  {
   "cell_type": "markdown",
   "metadata": {},
   "source": [
    "## 2. Dictionary Comprehension"
   ]
  },
  {
   "cell_type": "code",
   "execution_count": 34,
   "metadata": {},
   "outputs": [
    {
     "name": "stdout",
     "output_type": "stream",
     "text": [
      "{'001': {'address': 'ktm'}, '003': {'address': 'ktm'}}\n"
     ]
    }
   ],
   "source": [
    "users = {\n",
    "    '001':{\n",
    "        'address': 'ktm'\n",
    "    },\n",
    "    '002':{\n",
    "        'address': 'brt'\n",
    "    },\n",
    "    '003':{\n",
    "        'address': 'ktm'\n",
    "    },\n",
    "}\n",
    "\n",
    "users_from_ktm = {\n",
    "    user_id:user_info \n",
    "    for user_id,user_info in users.items() \n",
    "    if users[user_id]['address']=='ktm'\n",
    "}\n",
    "\n",
    "print(users_from_ktm)"
   ]
  },
  {
   "cell_type": "code",
   "execution_count": null,
   "metadata": {},
   "outputs": [],
   "source": []
  }
 ],
 "metadata": {
  "kernelspec": {
   "display_name": "Python 3",
   "language": "python",
   "name": "python3"
  },
  "language_info": {
   "codemirror_mode": {
    "name": "ipython",
    "version": 3
   },
   "file_extension": ".py",
   "mimetype": "text/x-python",
   "name": "python",
   "nbconvert_exporter": "python",
   "pygments_lexer": "ipython3",
   "version": "3.12.3"
  }
 },
 "nbformat": 4,
 "nbformat_minor": 2
}
