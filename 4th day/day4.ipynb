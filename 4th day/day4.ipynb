{
 "cells": [
  {
   "cell_type": "markdown",
   "metadata": {},
   "source": [
    "## While loop"
   ]
  },
  {
   "cell_type": "code",
   "execution_count": null,
   "metadata": {},
   "outputs": [],
   "source": [
    "i=0\n",
    "\n",
    "while i<=10:\n",
    "    print(i)\n",
    "    i = i+1"
   ]
  },
  {
   "cell_type": "markdown",
   "metadata": {},
   "source": [
    "### Menu-driven program simple example"
   ]
  },
  {
   "cell_type": "code",
   "execution_count": null,
   "metadata": {},
   "outputs": [],
   "source": [
    "condition = True\n",
    "while condition:\n",
    "    print(\"1. Option 1\")\n",
    "    print(\"2. Option 2\")\n",
    "    print(\"3. Exit\")\n",
    "    user_choice = int(input(\"Enter your choice: \"))\n",
    "    if user_choice == 3: # 3 means user wants to exit\n",
    "        condition = False\n",
    "    else:\n",
    "        print(\"Operation running ....\")"
   ]
  },
  {
   "cell_type": "markdown",
   "metadata": {},
   "source": [
    "### 1. Break"
   ]
  },
  {
   "cell_type": "code",
   "execution_count": null,
   "metadata": {},
   "outputs": [],
   "source": [
    "while True:\n",
    "    print(\"1. Option 1\")\n",
    "    print(\"2. Option 2\")\n",
    "    print(\"3. Exit\")\n",
    "    user_choice = int(input(\"Enter your choice: \"))\n",
    "    if user_choice == 3: # 3 means user wants to exit\n",
    "        break\n",
    "    else:\n",
    "        print(\"Operation running ...\")\n",
    "\n",
    "# asdlfkjasd"
   ]
  },
  {
   "cell_type": "markdown",
   "metadata": {},
   "source": [
    "### 2. Continue\n"
   ]
  },
  {
   "cell_type": "code",
   "execution_count": null,
   "metadata": {},
   "outputs": [],
   "source": [
    "\n",
    "for i in range(1,11):\n",
    "    if i==5:\n",
    "        continue\n",
    "    print(i) #operation\n"
   ]
  },
  {
   "cell_type": "markdown",
   "metadata": {},
   "source": [
    "### Calculator"
   ]
  },
  {
   "cell_type": "code",
   "execution_count": null,
   "metadata": {},
   "outputs": [],
   "source": [
    "while True:\n",
    "    print(\"1. Addition\")\n",
    "    print(\"2. Subtraction\")\n",
    "    print(\"3. Multiplication\")\n",
    "    print(\"4. Exit\")\n",
    "    \n",
    "    user_choice = int(input(\"Enter your choice (1/2/3/4): \"))\n",
    "\n",
    "    if user_choice == 1:\n",
    "        num1 = int(input(\"Enter num1: \"))\n",
    "        num2 = int(input(\"Enter num2: \"))\n",
    "        print(num1+num2)\n",
    "    elif user_choice == 2:\n",
    "        num1 = int(input(\"Enter num1: \"))\n",
    "        num2 = int(input(\"Enter num2: \"))\n",
    "        print(num1-num2)\n",
    "    elif user_choice == 3:\n",
    "        num1 = int(input(\"Enter num1: \"))\n",
    "        num2 = int(input(\"Enter num2: \"))\n",
    "        print(num1*num2)\n",
    "    elif user_choice == 4:\n",
    "        break\n",
    "    else:\n",
    "        print(\"Please enter a valid choice\")\n",
    "    "
   ]
  },
  {
   "cell_type": "markdown",
   "metadata": {},
   "source": [
    "# Functions"
   ]
  },
  {
   "cell_type": "code",
   "execution_count": null,
   "metadata": {},
   "outputs": [],
   "source": [
    "def show_menu():  #function defination\n",
    "    print(\"1. Addition\")\n",
    "    print(\"2. Subtraction\")\n",
    "    print(\"3. Multiplication\")\n",
    "    print(\"4. Exit\")\n",
    "\n",
    "\n",
    "def perform_add():\n",
    "    num1 = int(input(\"Enter num1: \"))\n",
    "    num2 = int(input(\"Enter num2: \"))\n",
    "    print(num1+num2)\n",
    "\n",
    "\n",
    "def perform_sub():\n",
    "    num1 = int(input(\"Enter num1: \"))\n",
    "    num2 = int(input(\"Enter num2: \"))\n",
    "    print(num1+num2)\n",
    "\n",
    "\n",
    "def perform_mul():\n",
    "    num1 = int(input(\"Enter num1: \"))\n",
    "    num2 = int(input(\"Enter num2: \"))\n",
    "    print(num1+num2)\n",
    "\n",
    "def ask_another_valid_choice():\n",
    "    print(\"Please enter a valid choice\")\n",
    "\n",
    "\n",
    "while True:\n",
    "    \n",
    "    show_menu()  #function call\n",
    "\n",
    "    user_choice = int(input(\"Enter your choice (1/2/3/4): \"))\n",
    "\n",
    "    if user_choice == 1:\n",
    "        perform_add()\n",
    "\n",
    "    elif user_choice == 2:\n",
    "        perform_sub()\n",
    "\n",
    "    elif user_choice == 3:\n",
    "        perform_mul()\n",
    "\n",
    "    elif user_choice == 4:\n",
    "        break # exit\n",
    "\n",
    "    else:\n",
    "        ask_another_valid_choice()"
   ]
  },
  {
   "cell_type": "markdown",
   "metadata": {},
   "source": [
    "### Parameters and Arguments in Function"
   ]
  },
  {
   "cell_type": "markdown",
   "metadata": {},
   "source": [
    "### 1. Positional "
   ]
  },
  {
   "cell_type": "code",
   "execution_count": 5,
   "metadata": {},
   "outputs": [
    {
     "name": "stdout",
     "output_type": "stream",
     "text": [
      "Good Evening! hari, Welcome\n"
     ]
    }
   ],
   "source": [
    "# def greet_user_ram():\n",
    "#     print(\"Hey Ram, Welcome\")\n",
    "\n",
    "# def greet_user_hari():\n",
    "#     print(\"Hey Hari, Welcome\")\n",
    "\n",
    "\n",
    "# greet_user_hari()\n",
    "\n",
    "#here , user_name is a variable used to receive a value, and it is called as parameter\n",
    "def greet_user(greet, user_name):  #here, greet and user_name are positional arguments/parameters\n",
    "    print(f\"{greet}! {user_name}, Welcome\")\n",
    "\n",
    "\n",
    "\n",
    "#here, actual value i.e. \"seeta\" is sent to function. And this actual value is called as argument\n",
    "# greet_user(\"seeta\")\n",
    "# greet_user()\n",
    "\n",
    "# greet_user(\"hello\", \"ram\")\n",
    "# greet_user(\"hi\", \"hari\")\n",
    "# greet_user(\"hari\", \"hi\")\n",
    "\n",
    "\n",
    "#here exchanging position can be done by writing parameter's names too, they are called as keyword arguments\n",
    "#Example\n",
    "greet_user(user_name=\"hari\", greet=\"Good Evening\")\n",
    "\n",
    "\n"
   ]
  },
  {
   "cell_type": "markdown",
   "metadata": {},
   "source": [
    "2. Default"
   ]
  },
  {
   "cell_type": "code",
   "execution_count": null,
   "metadata": {},
   "outputs": [],
   "source": [
    "# def greet_user(user_name, greet=\"hello\" ):  #here, greet and user_name are positional arguments/parameters\n",
    "#     print(f\"{greet}! {user_name}, Welcome\")\n",
    "\n",
    "\n",
    "\n",
    "# greet_user(\"hari\")\n",
    "# greet_user(\"ram\", \"Very Very good evening\")\n",
    "\n",
    "\n"
   ]
  },
  {
   "cell_type": "markdown",
   "metadata": {},
   "source": [
    "# Note - non-default parameters should be kept before all default parameters"
   ]
  },
  {
   "cell_type": "markdown",
   "metadata": {},
   "source": [
    "### 3. *args"
   ]
  },
  {
   "cell_type": "code",
   "execution_count": 38,
   "metadata": {},
   "outputs": [
    {
     "name": "stdout",
     "output_type": "stream",
     "text": [
      "39\n"
     ]
    }
   ],
   "source": [
    "# # problems\n",
    "# def perform_add(num1, num2, num3, num4):\n",
    "#     print(num1+num2+num3+num4)\n",
    "\n",
    "\n",
    "\n",
    "# perform_add(2,4, 10, 11)\n",
    "\n",
    "\n",
    "# def perform_add(*numbers):\n",
    "#     # print(args)\n",
    "#     # num1 = args[0]\n",
    "#     # num2 = args[1]\n",
    "#     # num3 = args[2]\n",
    "#     # print(num1)\n",
    "#     # print(num2)\n",
    "#     # print(num3)\n",
    "#     sum = 0\n",
    "#     for number in numbers:\n",
    "#         sum = sum + number\n",
    "\n",
    "#     print(sum)\n",
    "    \n",
    "\n",
    "\n",
    "\n",
    "# perform_add(2, 3, 4, 5, 2,3,4,5,5,6)"
   ]
  },
  {
   "cell_type": "markdown",
   "metadata": {},
   "source": [
    "### 4. **kwargs\n"
   ]
  },
  {
   "cell_type": "code",
   "execution_count": 50,
   "metadata": {},
   "outputs": [
    {
     "name": "stdout",
     "output_type": "stream",
     "text": [
      "You are trying to perform Invalid operation\n"
     ]
    }
   ],
   "source": [
    "# def perform_operation(operation, *numbers):\n",
    "def perform_operation(*numbers, **kwargs):\n",
    "    operation = kwargs['operation']\n",
    "    if operation == \"+\":\n",
    "        sum=0\n",
    "        for number in numbers:\n",
    "            # sum = sum + number\n",
    "            sum += number\n",
    "        print(sum)\n",
    "    elif operation == \"-\":\n",
    "        difference=0\n",
    "        for number in numbers:\n",
    "            # difference = difference - number\n",
    "            difference -= number\n",
    "        print(difference)\n",
    "    else:\n",
    "        print(\"You are trying to perform Invalid operation\")\n",
    "\n",
    "\n",
    "\n",
    "perform_operation(2,3,4,5,5,6,6,6, operation=\"*\")\n"
   ]
  },
  {
   "cell_type": "markdown",
   "metadata": {},
   "source": [
    "### positional, *args, **kwargs"
   ]
  },
  {
   "cell_type": "code",
   "execution_count": 51,
   "metadata": {},
   "outputs": [
    {
     "name": "stdout",
     "output_type": "stream",
     "text": [
      "You are trying to perform Invalid operation\n",
      "None\n"
     ]
    }
   ],
   "source": [
    "def perform_operation(num1, num2,*numbers,**kwargs):\n",
    "    operation = kwargs['operation']\n",
    "    if operation == \"+\":\n",
    "        sum=0\n",
    "        for number in numbers:\n",
    "            # sum = sum + number\n",
    "            sum += number\n",
    "        print(sum)\n",
    "    elif operation == \"-\":\n",
    "        difference=0\n",
    "        for number in numbers:\n",
    "            # difference = difference - number\n",
    "            difference -= number\n",
    "        print(difference)\n",
    "    else:\n",
    "        print(\"You are trying to perform Invalid operation\")\n",
    "\n",
    "\n",
    "\n",
    "print(perform_operation(2,3,4,5,5,6,6,6, operation=\"*\"))"
   ]
  }
 ],
 "metadata": {
  "kernelspec": {
   "display_name": "Python 3",
   "language": "python",
   "name": "python3"
  },
  "language_info": {
   "codemirror_mode": {
    "name": "ipython",
    "version": 3
   },
   "file_extension": ".py",
   "mimetype": "text/x-python",
   "name": "python",
   "nbconvert_exporter": "python",
   "pygments_lexer": "ipython3",
   "version": "3.12.3"
  }
 },
 "nbformat": 4,
 "nbformat_minor": 2
}
