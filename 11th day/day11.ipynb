{
 "cells": [
  {
   "cell_type": "markdown",
   "metadata": {},
   "source": [
    "# Class"
   ]
  },
  {
   "cell_type": "markdown",
   "metadata": {},
   "source": [
    "class is a representation of an object"
   ]
  },
  {
   "cell_type": "code",
   "execution_count": null,
   "metadata": {},
   "outputs": [],
   "source": [
    "# class Animal:\n",
    "#     pass\n",
    "\n",
    "\n",
    "# dog = Animal()\n",
    "\n",
    "\n",
    "# print(type(dog))"
   ]
  },
  {
   "cell_type": "code",
   "execution_count": 46,
   "metadata": {},
   "outputs": [
    {
     "data": {
      "text/plain": [
       "'2002-01-13'"
      ]
     },
     "execution_count": 46,
     "metadata": {},
     "output_type": "execute_result"
    }
   ],
   "source": [
    "# user_name = \"ram\"\n",
    "# user_address = \"ktm\"\n",
    "# user_phone = \"987654321\"\n",
    "# user_age = 22\n",
    "\n",
    "\n",
    "# user2_name = \"hari\"\n",
    "# user2_address = \"pkh\"\n",
    "# user2_phone = \"987654320\"\n",
    "# user2_age = 23\n",
    "\n",
    "# def greet_user():\n",
    "#     print(\"Hello, ram\")\n",
    "\n",
    "\n",
    "class User:\n",
    "\n",
    "    count = 0  #keeps the count of objects i.e. Users in our case\n",
    "\n",
    "    def __init__(self, citizenship_no, name, phone, age, address): # constructor\n",
    "        # print(name, phone, age,address)\n",
    "        # print(\"Constructor: Ok, got it\")\n",
    "        self.name = name\n",
    "        self.phone = phone\n",
    "        self.age = age\n",
    "        self.address = address\n",
    "        self.__citizenship_no = citizenship_no\n",
    "\n",
    "\n",
    "        User.count += 1\n",
    "\n",
    "\n",
    "        # print(\"inside constructor\",self.__citizenship_no)\n",
    "        # print(\"Constructor: User created\")\n",
    "\n",
    "\n",
    "    def get_citizenship_number(self):\n",
    "        return f\"{self.__citizenship_no[:-4]}****\"\n",
    "\n",
    "\n",
    "    @classmethod\n",
    "    def show_total_number_of_users(cls):\n",
    "        print(f\"Till now, total users registered in out system are {cls.count}\")\n",
    "\n",
    "\n",
    "    @property\n",
    "    def date_of_birth(self):\n",
    "        from datetime import datetime, timedelta\n",
    "        return (datetime.now() - timedelta(days=self.age*365)).strftime(\"%Y-%m-%d\")\n",
    "    \n",
    "\n",
    "\n",
    "\n",
    "\n",
    "# user = User()\n",
    "ram = User(\"123098039482034\",\"hari\", \"987654320\",23, \"pokhara\") # object creation -> instance -> instanciation\n",
    "hari = User(\"123098039482035\",\"ram\", \"987654320\",23, \"kathmandu\")\n",
    "\n",
    "# print(type(user))\n",
    "# print(user.name)\n",
    "# print(user.phone)\n",
    "# print(user.age)\n",
    "# print(user.n)\n",
    "# print(user.a)\n",
    "# print(user.ad)\n",
    "# print(user._date_of_birth) \n",
    "# print(user._User__citizenship_no)\n",
    "\n",
    "\n",
    "# print(user.get_citizenship_number())\n",
    "# print(user2.get_citizenship_number())\n",
    "\n",
    "# print(User.get_citizenship_number())\n",
    "# print(User.count)\n",
    "# print(user.count)\n",
    "# print(user2.count)\n",
    "\n",
    "\n",
    "# User.show_total_number_of_users()\n",
    "\n",
    "ram.date_of_birth"
   ]
  },
  {
   "cell_type": "markdown",
   "metadata": {},
   "source": [
    "#### Note: Those attributes which can be directly accessed from outside the class defination are called as public attributes. And those which can't be accessed or are not intended to access from outside the class defination, are called as private attributes"
   ]
  },
  {
   "cell_type": "markdown",
   "metadata": {},
   "source": [
    "#### Note: To keep attribute as private and maintain privacy i.e. not exposing it to outside the class defination, python uses a concept called Name Mangling. Which means just modify the name of attribute itself.   \n",
    "\n",
    "eg. __citizenship_no  =>  _User__citizenship_no"
   ]
  },
  {
   "cell_type": "markdown",
   "metadata": {},
   "source": []
  },
  {
   "cell_type": "code",
   "execution_count": 48,
   "metadata": {},
   "outputs": [
    {
     "name": "stdout",
     "output_type": "stream",
     "text": [
      "200 sq units\n",
      "60 units\n"
     ]
    }
   ],
   "source": [
    "class Rectangle:\n",
    "    def __init__(self,length,width):\n",
    "        self.length = length\n",
    "        self.width = width\n",
    "\n",
    "    @property\n",
    "    def area(self):\n",
    "        return f\"{self.length*self.width} sq units\"\n",
    "    \n",
    "\n",
    "    @property\n",
    "    def perimeter(self):\n",
    "        return f\"{2*(self.length+self.width)} units\"\n",
    "    \n",
    "\n",
    "\n",
    "\n",
    "\n",
    "rect1 = Rectangle(10,20)\n",
    "print(rect1.area)\n",
    "print(rect1.perimeter)"
   ]
  }
 ],
 "metadata": {
  "kernelspec": {
   "display_name": "Python 3",
   "language": "python",
   "name": "python3"
  },
  "language_info": {
   "codemirror_mode": {
    "name": "ipython",
    "version": 3
   },
   "file_extension": ".py",
   "mimetype": "text/x-python",
   "name": "python",
   "nbconvert_exporter": "python",
   "pygments_lexer": "ipython3",
   "version": "3.12.3"
  }
 },
 "nbformat": 4,
 "nbformat_minor": 2
}
