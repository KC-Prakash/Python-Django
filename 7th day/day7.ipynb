{
 "cells": [
  {
   "cell_type": "markdown",
   "metadata": {},
   "source": [
    "# Data Structures in Python\n"
   ]
  },
  {
   "cell_type": "markdown",
   "metadata": {},
   "source": [
    "## 1. List (Mutable)"
   ]
  },
  {
   "cell_type": "code",
   "execution_count": null,
   "metadata": {},
   "outputs": [],
   "source": [
    "# a = [1, 1.5, \"Ram\",1,2,3,5]\n",
    "\n",
    "# a[0]\n",
    "# a[2]\n",
    "# a[-1]\n",
    "\n",
    "# a[0] = \"Another value\"\n",
    "# print(a)\n",
    "\n",
    "# for index in range(0,3):\n",
    "#     print(a[index])\n",
    "# len_of_a = len(a)\n",
    "# for index in range(0,len_of_a):\n",
    "#     print(a[index])\n",
    "\n",
    "# for item in a:\n",
    "#     print(item)\n",
    "\n",
    "# a, b = (1, 2)\n",
    "students = [\"ram\", \"shyam\", \"hari\", \"seeta\", \"geeta\"]\n",
    "\n",
    "# # for roll_no,student in enumerate(students, start=1): #enumerate\n",
    "# for item in enumerate(students, start=1): #enumerate\n",
    "#     roll_no, student = item\n",
    "#     print(roll_no, student)\n",
    "\n",
    "\n",
    "# students[0] = \"Ram\"\n",
    "# students.append(\"Ravi\")\n",
    "# del students[0]\n",
    "# print(students)\n",
    "# students.pop()\n",
    "# print(students)\n",
    "# students.pop(3)\n",
    "# print(students)\n",
    "\n",
    "\n",
    "\n",
    "#slicing\n",
    "print(students)\n",
    "# sliced_students = students[1:3]\n",
    "# sliced_students = students[:3]\n",
    "# sliced_students = students[3:]\n",
    "# sliced_students = students[-1:]\n",
    "# print(sliced_students)\n",
    "\n",
    "\n",
    "# another_students_list = ['shrawan', 'rashmina']\n",
    "\n",
    "# # print(students + another_students_list)\n",
    "# print(students*2)\n",
    "\n",
    "# print(\"ram\" in students)\n",
    "# student_name = \"Ram\"\n",
    "# student_found = student_name.lower() in students\n",
    "# if student_found:\n",
    "#     print(\"Yes, student found\")\n",
    "# print(student_name.lower() in students)\n",
    "# if char == \"a\":\n",
    "# if char == \"e\":\n",
    "# print(\"ram\" not in students)\n",
    "\n",
    "\n",
    "# students = [\"ram\", \"shyam\", \"hari\"]\n",
    "# phone_numbers = [\"987654321\", \"123456789\", \"987654321\"]\n",
    "\n",
    "\n",
    "# for student, phone_number in zip(students, phone_numbers):\n",
    "#     print(f\"{student} - {phone_number}\")\n",
    "\n",
    "\n",
    "\n",
    "# a = [1,1,1,2]\n",
    "# print(a)\n",
    "# a.remove(1)\n",
    "# print(a)\n",
    "\n",
    "\n",
    "\n",
    "students.sort(reverse=True)\n",
    "print(students)\n",
    "\n"
   ]
  },
  {
   "cell_type": "markdown",
   "metadata": {},
   "source": [
    "# Tuple"
   ]
  },
  {
   "cell_type": "markdown",
   "metadata": {},
   "source": [
    "### Note: Tuple is also simply collection of items, but once it is created, we can't modify it. It is immutable"
   ]
  },
  {
   "cell_type": "code",
   "execution_count": 44,
   "metadata": {},
   "outputs": [
    {
     "name": "stdout",
     "output_type": "stream",
     "text": [
      "('male', 'female', \"Don't wanna disclose\")\n"
     ]
    }
   ],
   "source": [
    "# a = (1,2)\n",
    "# print(a)\n",
    "\n",
    "gender_options = (\"male\", \"female\", \"rather not say\")\n",
    "\n",
    "# for option in gender_options:\n",
    "#     print(option)\n",
    "\n",
    "\n",
    "gender_options = list(gender_options)\n",
    "gender_options[2] = \"Don't wanna disclose\"\n",
    "gender_options = tuple(gender_options)\n",
    "print(gender_options)\n"
   ]
  },
  {
   "cell_type": "markdown",
   "metadata": {},
   "source": [
    "# Sets"
   ]
  },
  {
   "cell_type": "markdown",
   "metadata": {},
   "source": [
    "### Note: set is also a collection of data items, but repeatation is not allowed"
   ]
  },
  {
   "cell_type": "code",
   "execution_count": 87,
   "metadata": {},
   "outputs": [],
   "source": [
    "# a = [\"ram\", \"ram\",\"hari\"]\n",
    "# a = set(a)\n",
    "# print(a)\n",
    "# a = {1,2,3,3}\n",
    "# a.add(4)\n",
    "# a.update([5,6])\n",
    "# print(a)\n",
    "\n",
    "\n",
    "# # a.remove(7)\n",
    "# a.discard(7)\n",
    "# print(a)\n",
    "\n",
    "\n",
    "# for item in a:\n",
    "#     print(item)\n",
    "\n",
    "\n",
    "a = {1,2,3}\n",
    "b = {3,4,5}\n",
    "# a_union_b = a.union(b)\n",
    "# a_union_b = a | b\n",
    "# print(a_union_b)\n",
    "\n",
    "\n",
    "# a_intersect_b = a.intersection(b)\n",
    "# a_intersect_b = a & b \n",
    "# print(a_intersect_b)\n",
    "\n",
    "\n",
    "# a_diff_b = a.difference(b)\n",
    "# a_diff_b = b - a\n",
    "# print(a_diff_b)\n",
    "\n",
    "\n",
    "\n",
    "# a_b = a.symmetric_difference(b)\n",
    "# # a_b = a ^ b\n",
    "# print(a_b)\n",
    "\n",
    "\n",
    "\n",
    "\n",
    "# ram_shopping_list = [\"apple\", \"banana\", \"orange\"]\n",
    "# shyam_shopping_list = [\"apple\", \"banana\", \"mango\"]\n",
    "\n",
    "\n",
    "# print(set(ram_shopping_list) & set(shyam_shopping_list))\n",
    "# ram_suggestion = set(shyam_shopping_list) - set(ram_shopping_list)\n",
    "# print(ram_suggestion)"
   ]
  },
  {
   "cell_type": "markdown",
   "metadata": {},
   "source": [
    "# Dictionary\n"
   ]
  },
  {
   "cell_type": "markdown",
   "metadata": {},
   "source": [
    "### Note: Collection of items, where each item has exactly two parts, known as key and value"
   ]
  },
  {
   "cell_type": "code",
   "execution_count": 107,
   "metadata": {},
   "outputs": [
    {
     "name": "stdout",
     "output_type": "stream",
     "text": [
      "{'some_info': 'lskdj', 'students_count': 20}\n"
     ]
    }
   ],
   "source": [
    "students_info = {\n",
    "    \"students_count\": 20,\n",
    "    \"some_info\":\"lskdj\"\n",
    "}\n",
    "\n",
    "# print(students_info)\n",
    "# students_info[\"students_count\"]\n",
    "# for key, value in students_info.items():\n",
    "#     print(key, value)\n",
    "\n",
    "# \"new_info\" in students_info.keys()\n",
    "# students_info.values()\n",
    "\n",
    "\n",
    "# students_info[\"students_count\"] += 1\n",
    "# del students_info[\"students_count\"]\n",
    "\n",
    "# students_info[\"students_counts\"]\n",
    "# print(students_info.get(\"students_counts\", \"not found\"))\n",
    "# import pprint\n",
    "\n",
    "# # print(students_info)\n",
    "# pprint.pprint(students_info)"
   ]
  }
 ],
 "metadata": {
  "kernelspec": {
   "display_name": "Python 3",
   "language": "python",
   "name": "python3"
  },
  "language_info": {
   "codemirror_mode": {
    "name": "ipython",
    "version": 3
   },
   "file_extension": ".py",
   "mimetype": "text/x-python",
   "name": "python",
   "nbconvert_exporter": "python",
   "pygments_lexer": "ipython3",
   "version": "3.12.3"
  }
 },
 "nbformat": 4,
 "nbformat_minor": 2
}
