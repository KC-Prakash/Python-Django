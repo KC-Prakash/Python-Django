{
 "cells": [
  {
   "cell_type": "markdown",
   "metadata": {},
   "source": [
    "# Modules"
   ]
  },
  {
   "cell_type": "markdown",
   "metadata": {},
   "source": [
    "### 1. Math module"
   ]
  },
  {
   "cell_type": "code",
   "execution_count": null,
   "metadata": {},
   "outputs": [],
   "source": [
    "import math\n",
    "\n",
    "# print(math.factorial(5))\n",
    "# print(math.comb(5, 2))\n",
    "# print(math.gcd(5,10, 20,15))\n",
    "# print(math.lcm(5,10, 20,15))\n",
    "\n",
    "# print(math.ceil(3.4))\n",
    "# print(math.floor(3.4))\n",
    "\n",
    "# PI = math.pi\n",
    "# print(PI*1**2)\n",
    "# print(math.pow(3,4))"
   ]
  },
  {
   "cell_type": "markdown",
   "metadata": {},
   "source": [
    "### 2. Datetime module and Time module"
   ]
  },
  {
   "cell_type": "code",
   "execution_count": null,
   "metadata": {},
   "outputs": [],
   "source": [
    "# from datetime import datetime\n",
    "# import time\n",
    "\n",
    "# # print(datetime.now())\n",
    "# # for i in range(10):\n",
    "# #     print(i)\n",
    "# #     # time.sleep(1)\n",
    "\n",
    "\n",
    "# #finding birthdate\n",
    "# year = input(\"Enter your birth year: \")\n",
    "# month = input(\"Enter your birth month: \")\n",
    "# day = input(\"Enter your birth day: \")\n",
    "# birthdate = datetime(int(year), int(month), int(day))\n",
    "# # print(birthdate)\n",
    "# # print(datetime.now())\n",
    "# age_days = datetime.now() - birthdate\n",
    "# age_years = age_days.days/365\n",
    "# print(f\"Your age is {age_years:.2f} years\")"
   ]
  },
  {
   "cell_type": "markdown",
   "metadata": {},
   "source": [
    "### New Year countdown"
   ]
  },
  {
   "cell_type": "code",
   "execution_count": null,
   "metadata": {},
   "outputs": [],
   "source": [
    "from datetime import datetime\n",
    "import time\n",
    "import os\n",
    "\n",
    "new_year = datetime(datetime.now().year + 1, 1, 1)\n",
    "\n",
    "while datetime.now() < new_year:\n",
    "    remaining_time = new_year - datetime.now()\n",
    "\n",
    "    print(f\"New year in {remaining_time.days} days - {remaining_time.seconds//60} minutes -{remaining_time.seconds%60} seconds\")\n",
    "\n",
    "    time.sleep(1)\n",
    "    os.system(\"cls\")"
   ]
  },
  {
   "cell_type": "code",
   "execution_count": null,
   "metadata": {},
   "outputs": [],
   "source": [
    "# import random\n",
    "\n",
    "# print(random.randint(1,1000))\n",
    "\n",
    "\n",
    "# items = [\"A\", \"K\", \"Q\", \"J\"]\n",
    "# # random_index = random.randint(0, len(items)-1)\n",
    "# # print(random_index)\n",
    "# # print(items[random_index])\n",
    "# # # print(random.choice(items))\n",
    "# random.shuffle(items)\n",
    "# print(items)\n"
   ]
  }
 ],
 "metadata": {
  "kernelspec": {
   "display_name": "Python 3",
   "language": "python",
   "name": "python3"
  },
  "language_info": {
   "codemirror_mode": {
    "name": "ipython",
    "version": 3
   },
   "file_extension": ".py",
   "mimetype": "text/x-python",
   "name": "python",
   "nbconvert_exporter": "python",
   "pygments_lexer": "ipython3",
   "version": "3.12.3"
  }
 },
 "nbformat": 4,
 "nbformat_minor": 2
}
