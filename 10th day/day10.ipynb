{
 "cells": [
  {
   "cell_type": "markdown",
   "metadata": {},
   "source": [
    "# 1. Iterators"
   ]
  },
  {
   "cell_type": "markdown",
   "metadata": {},
   "source": [
    "__inter__()\n",
    "__next__()\n"
   ]
  },
  {
   "cell_type": "code",
   "execution_count": null,
   "metadata": {},
   "outputs": [],
   "source": [
    "# a = [1,2,4]\n",
    "# for item in a:\n",
    "#     print(item)"
   ]
  },
  {
   "cell_type": "markdown",
   "metadata": {},
   "source": [
    "## Explicitly using iter to make iterable"
   ]
  },
  {
   "cell_type": "code",
   "execution_count": null,
   "metadata": {},
   "outputs": [],
   "source": [
    "# a = [1,2,4]\n",
    "# b = iter(a)\n",
    "# print(type(b))\n",
    "# print(next(b))\n",
    "# print(next(b))\n",
    "# print(next(b))\n",
    "# print(next(b))\n",
    "\n",
    "# for _ in range(3):\n",
    "#     print(next(b))\n",
    "\n",
    "# b = iter(a)\n",
    "# while True:\n",
    "#     try:\n",
    "#         item = next(b)\n",
    "#         print(item)\n",
    "#     except StopIteration:\n",
    "#         break"
   ]
  },
  {
   "cell_type": "code",
   "execution_count": null,
   "metadata": {},
   "outputs": [],
   "source": [
    "# input(\"enter\")\n",
    "# until_stop_input = iter(input, \"stop\")\n",
    "\n",
    "# for user_choice in until_stop_input:\n",
    "#     print(user_choice)"
   ]
  },
  {
   "cell_type": "markdown",
   "metadata": {},
   "source": [
    "# Generators"
   ]
  },
  {
   "cell_type": "code",
   "execution_count": null,
   "metadata": {},
   "outputs": [],
   "source": [
    "# def simple_func():\n",
    "#     numbers =[]\n",
    "#     for i in range(10):\n",
    "#         # print(i) \n",
    "#         # return i\n",
    "#         numbers.append(i)\n",
    "\n",
    "#     return numbers\n",
    "    \n",
    "\n",
    "# simple_func()"
   ]
  },
  {
   "cell_type": "code",
   "execution_count": null,
   "metadata": {},
   "outputs": [],
   "source": [
    "# def simple_func():\n",
    "#     for i in range(10):\n",
    "#         # print(i) \n",
    "#         yield i\n",
    "       \n",
    "    \n",
    "\n",
    "# numbers = simple_func()\n",
    "\n",
    "# print(next(numbers))\n",
    "# print(next(numbers))\n",
    "# print(next(numbers))\n",
    "# print(next(numbers))\n",
    "# print(next(numbers))\n",
    "\n",
    "\n",
    "\n",
    "# def whole_number():\n",
    "#     number = 0\n",
    "#     while True:\n",
    "#         yield number\n",
    "#         number += 1\n",
    "\n",
    "\n",
    "# number = whole_number()\n",
    "\n",
    "# for _ in range(50):\n",
    "#     print(next(number))\n",
    "\n",
    "\n",
    "\n",
    "# 0,1,1,2,3....\n",
    "# def fibo_sequence():\n",
    "#     a,b = 0,1\n",
    "#     while True:\n",
    "#         yield a\n",
    "#         a,b = b, a+b\n",
    "\n",
    "\n",
    "# fibo_number = fibo_sequence()\n",
    "\n",
    "# for _ in range(100):\n",
    "#     print(next(fibo_number))\n",
    "\n",
    "\n",
    "\n",
    "# def gen(passwords_file):\n",
    "#     with open(passwords_file) as f:\n",
    "#         for line in f:\n",
    "#             yield line.strip()\n",
    "\n",
    "\n",
    "\n",
    "# password = gen(\"passwords.txt\")\n",
    "\n",
    "# print(next(password))\n",
    "# print(next(password))\n",
    "# print(next(password))\n"
   ]
  },
  {
   "cell_type": "markdown",
   "metadata": {},
   "source": [
    "# Decorators"
   ]
  },
  {
   "cell_type": "code",
   "execution_count": null,
   "metadata": {},
   "outputs": [],
   "source": [
    "def new_func():\n",
    "    # does something\n",
    "    pass"
   ]
  },
  {
   "cell_type": "code",
   "execution_count": null,
   "metadata": {},
   "outputs": [],
   "source": [
    "# def decorator(func):\n",
    "#     def wrapper():\n",
    "#         #code to do before func\n",
    "#         print(\"This is top level wrapper\")\n",
    "#         func()\n",
    "#         print(\"This is bottom level wrapper\")\n",
    "#         #code to do after func\n",
    "\n",
    "#     return wrapper\n",
    "\n",
    "\n",
    "\n",
    "\n",
    "# @decorator\n",
    "# def gift():\n",
    "#     print(\"This is a gift to be wrapped\")\n",
    "\n",
    "\n",
    "\n",
    "\n",
    "# gift()"
   ]
  },
  {
   "cell_type": "code",
   "execution_count": null,
   "metadata": {},
   "outputs": [],
   "source": [
    "# def login_required(func):\n",
    "#     def wrapper(*args, **kwargs):\n",
    "#         user_logged_in = True\n",
    "#         if user_logged_in:\n",
    "#             func(*args, **kwargs)\n",
    "#         else:\n",
    "#             print(\"You are not logged in, please login first\")\n",
    "    \n",
    "#     return wrapper\n",
    "\n",
    "\n",
    "\n",
    "# def admin_required(func):\n",
    "#     def wrapper(*args, **kwargs):\n",
    "#         user = {\n",
    "#             \"username\":\"ram\",\n",
    "#             \"role\":\"staff\"\n",
    "#         }\n",
    "#         if user['role'] == \"admin\":\n",
    "#             func(*args, **kwargs)\n",
    "#         else:\n",
    "#             print(\"You are not authorized to access this page\")\n",
    "    \n",
    "#     return wrapper\n",
    "\n",
    "\n",
    "\n",
    "\n",
    "# @login_required\n",
    "# def home_page():\n",
    "#     # if user_logged_in:\n",
    "#     print(\"This is home page\")\n",
    "\n",
    "\n",
    "# @admin_required\n",
    "# def admin_page():\n",
    "#     print(\"This is admin page\")\n",
    "\n",
    "\n",
    "\n",
    "\n",
    "\n",
    "\n",
    "\n",
    "\n",
    "# # localhost:8000/home\n",
    "# # home_page()\n",
    "\n",
    "# #locahost:8000/admin\n",
    "# admin_page()"
   ]
  },
  {
   "cell_type": "code",
   "execution_count": 37,
   "metadata": {},
   "outputs": [],
   "source": [
    "def check_execution_time(func):\n",
    "    import time\n",
    "    def wrapper(*args, **kwargs):\n",
    "        start_time = time.time()\n",
    "        func(*args, **kwargs)\n",
    "        end_time = time.time()\n",
    "        execution_time = end_time - start_time\n",
    "        print(f\"Execution time: {execution_time} seconds\")\n",
    "    \n",
    "    return wrapper"
   ]
  },
  {
   "cell_type": "code",
   "execution_count": null,
   "metadata": {},
   "outputs": [],
   "source": [
    "@check_execution_time\n",
    "def asdf():\n",
    "    import time\n",
    "    time.sleep(5)\n",
    "\n",
    "\n",
    "\n",
    "\n",
    "\n",
    "asdf()\n"
   ]
  },
  {
   "cell_type": "markdown",
   "metadata": {},
   "source": [
    "# Regular Expressions"
   ]
  },
  {
   "cell_type": "code",
   "execution_count": 41,
   "metadata": {},
   "outputs": [
    {
     "name": "stdout",
     "output_type": "stream",
     "text": [
      "Invalid email address\n",
      "Invalid email address\n",
      "Invalid email address\n",
      "Valid email address\n"
     ]
    }
   ],
   "source": [
    "import re\n",
    "\n",
    "#validate email using regex\n",
    "# Basic symbols used in regex with their meaning\n",
    "# . : Any character (except newline)\n",
    "# ^ : Start of line\n",
    "# $ : End of line\n",
    "# * : Zero or more occurrences\n",
    "# + : One or more occurrences\n",
    "# ? : Zero or one occurrence\n",
    "# {n} : Exactly n occurrences\n",
    "# {n,} : At least n occurrences\n",
    "# {n,m} : At least n and at most m occurrences\n",
    "# | : Either or\n",
    "# \\ : Escape character\n",
    "# \\w : Word character (alphanumeric or underscore)\n",
    "# \\s : Whitespace character (space, tab, newline)\n",
    "# \\d : Digit character (0-9)\n",
    "# \\D : Non-digit character\n",
    "# \\A : Start of string\n",
    "# \\Z : End of string\n",
    "\n",
    "\n",
    "\n",
    "def validate_email(email):\n",
    "\n",
    "    # this function takes an email address as a string and returns True if the \n",
    "    # string is a valid email address according to the pattern, and False otherwise.\n",
    "    # The pattern is a regular expression that matches most common email address formats.\n",
    "    # The pattern is explained as follows:\n",
    "    #   ^ assert start of line\n",
    "    #   [\\w\\.-]+ match one or more alphanumeric characters, periods, hyphens, or underscores\n",
    "    #   @ assert @ symbol\n",
    "    #   [\\w\\.-]+ match one or more alphanumeric characters, periods, hyphens, or underscores\n",
    "    #   \\. assert period\n",
    "    #   \\w+ match one or more alphabetic characters (for the domain name)\n",
    "    #   $ assert end of line\n",
    "    pattern = r'^[\\w\\.-]+@[\\w\\.-]+\\.\\w+$' \n",
    "\n",
    "\n",
    "    if re.match(pattern, email):\n",
    "        return True\n",
    "    else:\n",
    "        return False\n",
    "    \n",
    "\n",
    "\n",
    "while True:\n",
    "    email = input(\"Enter an email address (or 'q' to quit): \")\n",
    "    if not email == 'q':\n",
    "        if validate_email(email):\n",
    "            print(\"Valid email address\")\n",
    "        else:\n",
    "            print(\"Invalid email address\")\n",
    "    else:\n",
    "        break"
   ]
  },
  {
   "cell_type": "code",
   "execution_count": 45,
   "metadata": {},
   "outputs": [
    {
     "name": "stdout",
     "output_type": "stream",
     "text": [
      "Valid NTC number\n"
     ]
    }
   ],
   "source": [
    "def validate_NTC_number(number):\n",
    "    # starts with 97 or 98\n",
    "    # must have exactly 10 digits\n",
    "    pattern = r'^[97|98]\\d{9}$'\n",
    "\n",
    "    if re.match(pattern, number):\n",
    "        return True\n",
    "    else:\n",
    "        return False\n",
    "    \n",
    "\n",
    "\n",
    "while True:\n",
    "    number = input(\"Enter an mobile number (or 'q' to quit): \")\n",
    "    if not number == 'q':\n",
    "        if validate_NTC_number(number):\n",
    "            print(\"Valid NTC number\")\n",
    "        else:\n",
    "            print(\"Invalid NTC number\")\n",
    "    else:\n",
    "        break"
   ]
  }
 ],
 "metadata": {
  "kernelspec": {
   "display_name": "Python 3",
   "language": "python",
   "name": "python3"
  },
  "language_info": {
   "codemirror_mode": {
    "name": "ipython",
    "version": 3
   },
   "file_extension": ".py",
   "mimetype": "text/x-python",
   "name": "python",
   "nbconvert_exporter": "python",
   "pygments_lexer": "ipython3",
   "version": "3.12.3"
  }
 },
 "nbformat": 4,
 "nbformat_minor": 2
}
